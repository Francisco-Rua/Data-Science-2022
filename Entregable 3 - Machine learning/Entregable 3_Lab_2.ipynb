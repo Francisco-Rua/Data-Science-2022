{
  "cells": [
    {
      "cell_type": "markdown",
      "metadata": {},
      "source": [
        "# Grupo 7\n",
        "\n",
        "\n",
        "Integrantes:\n",
        "\n",
        "\n",
        "Francisco RUA\n",
        "\n",
        "\n",
        "Adrian KOZAMEH\n",
        "\n",
        "\n",
        "Nicolás DA VIA\n",
        "\n",
        "\n",
        "Diana INSAURRALDE"
      ]
    },
    {
      "cell_type": "markdown",
      "metadata": {
        "id": "sBZTY5phPHCR"
      },
      "source": [
        "# Laboratorio 2: Armado de un esquema de aprendizaje automático\n",
        "\n",
        "En el laboratorio final se espera que puedan poner en práctica los conocimientos adquiridos en el curso, trabajando con un conjunto de datos de clasificación.\n",
        "\n",
        "El objetivo es que se introduzcan en el desarrollo de un esquema para hacer tareas de aprendizaje automático: selección de un modelo, ajuste de hiperparámetros y evaluación.\n",
        "\n",
        "El conjunto de datos a utilizar está en `./data/loan_data.csv`. Si abren el archivo verán que al principio (las líneas que empiezan con `#`) describen el conjunto de datos y sus atributos (incluyendo el atributo de etiqueta o clase).\n",
        "\n",
        "Se espera que hagan uso de las herramientas vistas en el curso. Se espera que hagan uso especialmente de las herramientas brindadas por `scikit-learn`."
      ]
    },
    {
      "cell_type": "code",
      "execution_count": null,
      "metadata": {
        "id": "pv-Ps4VVPHCZ"
      },
      "outputs": [],
      "source": [
        "import numpy as np\n",
        "import pandas as pd\n",
        "import matplotlib.pyplot as plt\n",
        "\n",
        "# TODO: Agregar las librerías que hagan falta\n",
        "from sklearn.model_selection import train_test_split\n",
        "from sklearn.preprocessing import MinMaxScaler\n",
        "from sklearn.metrics import classification_report, plot_confusion_matrix\n",
        "from sklearn.linear_model import SGDClassifier\n",
        "from sklearn.tree import DecisionTreeClassifier, plot_tree\n",
        "from sklearn.model_selection import GridSearchCV, train_test_split"
      ]
    },
    {
      "cell_type": "markdown",
      "metadata": {
        "id": "w-kYRmaVPHCb"
      },
      "source": [
        "## Carga de datos y división en entrenamiento y evaluación\n",
        "\n",
        "La celda siguiente se encarga de la carga de datos (haciendo uso de pandas). Estos serán los que se trabajarán en el resto del laboratorio."
      ]
    },
    {
      "cell_type": "code",
      "execution_count": null,
      "metadata": {
        "id": "--yiiGb0PHCb"
      },
      "outputs": [],
      "source": [
        "dataset = pd.read_csv(\"https://raw.githubusercontent.com/DiploDatos/IntroduccionAprendizajeAutomatico/master/data/loan_data.csv\", comment=\"#\")\n",
        "\n",
        "# División entre instancias y etiquetas\n",
        "X, y = dataset.drop('TARGET', axis=1), dataset.TARGET\n",
        "\n",
        "# división entre entrenamiento y evaluación\n",
        "X_train, X_test, y_train, y_test = train_test_split(X, y, test_size=0.2, random_state=0)"
      ]
    },
    {
      "cell_type": "markdown",
      "metadata": {
        "id": "rPNCk1mqPHCc"
      },
      "source": [
        "\n",
        "Documentación:\n",
        "\n",
        "- https://scikit-learn.org/stable/modules/generated/sklearn.model_selection.train_test_split.html"
      ]
    },
    {
      "cell_type": "markdown",
      "metadata": {
        "id": "-rt0EMj1PHCd"
      },
      "source": [
        "## Ejercicio 1: Descripción de los Datos y la Tarea\n",
        "\n",
        "Responder las siguientes preguntas:\n",
        "\n",
        "1. ¿De qué se trata el conjunto de datos?\n",
        "2. ¿Cuál es la variable objetivo que hay que predecir? ¿Qué significado tiene?\n",
        "3. ¿Qué información (atributos) hay disponible para hacer la predicción?\n",
        "4. ¿Qué atributos imagina ud. que son los más determinantes para la predicción?\n",
        "\n",
        "**No hace falta escribir código para responder estas preguntas.**"
      ]
    },
    {
      "cell_type": "markdown",
      "metadata": {
        "id": "Okq-J10CGMt4"
      },
      "source": [
        "1.1) El conjunto de datos trata sobre la necesidad de establecer un proceso de automatización para otorgar préstamos hipotecarios, mediante la creación de un modelo de calificación crediticia empíricamente derivado y estadísticamente sólido en donde se utilicen los datos recopilados de aplicaciones para créditos recientes que han sido otorgadas a través del proceso actual de suscripción de préstamos. \n",
        "El conjunto de datos sobre Home Equity (HMEQ) contiene información de referencia y de rendimiento de préstamos para 5,960 préstamos sobre el valor líquido de la vivienda recientes.\n",
        "\n",
        "1.2) La variable binaria a predecir es TARGET. Donde 0 indica que se completó el pago, y 1 que no se terminó de pagar la deuda.\n",
        "\n",
        "1.3) Son 10 las variables con las que contamos en nuestro conjunto de datos:\n",
        "\n",
        "- LOAN: Monto solicitado para el préstamo.\n",
        "- MORTDUE: Importe adeudado en la hipoteca existente.\n",
        "- VALUE: Valor de la propiedad actual.\n",
        "- YOJ: Antigüedad en el trabajo actual.\n",
        "- DEROG: Cantidad de reportes desfavorables relevantes.\n",
        "- DELINQ: Cantidad de líneas de crédito morosas.\n",
        "- CLAGE: Edad de la línea comercial más antigua en meses.\n",
        "- NINQ: Cantidad de líneas de crédito recientes.\n",
        "- CLNO: Cantidad de líneas de crédito.\n",
        "- DEBTINC: Tasa deuda / ingreso.\n",
        "\n",
        "1.4) A simple vista asumimos que los atributos más determinantes serían LOAN (monto solicitado), DELINQ (líneas morosas), VALUE (precio de propiedad), y DEROG (reportes negativos)."
      ]
    },
    {
      "cell_type": "markdown",
      "metadata": {
        "id": "OVsfPw_5PHCe"
      },
      "source": [
        "## Ejercicio 2: Predicción con Modelos Lineales\n",
        "\n",
        "En este ejercicio se entrenarán modelos lineales de clasificación para predecir la variable objetivo.\n",
        "\n",
        "Para ello, deberán utilizar la clase SGDClassifier de scikit-learn.\n",
        "\n",
        "Documentación:\n",
        "- https://scikit-learn.org/stable/modules/sgd.html\n",
        "- https://scikit-learn.org/stable/modules/generated/sklearn.linear_model.SGDClassifier.html\n"
      ]
    },
    {
      "cell_type": "markdown",
      "metadata": {
        "id": "-D6aM2wFPHCg"
      },
      "source": [
        "### Ejercicio 2.1: SGDClassifier con hiperparámetros por defecto\n",
        "\n",
        "Entrenar y evaluar el clasificador SGDClassifier usando los valores por omisión de scikit-learn para todos los parámetros. Únicamente **fijar la semilla aleatoria** para hacer repetible el experimento.\n",
        "\n",
        "Evaluar sobre el conjunto de **entrenamiento** y sobre el conjunto de **evaluación**, reportando:\n",
        "- Accuracy\n",
        "- Precision\n",
        "- Recall\n",
        "- F1\n",
        "- matriz de confusión"
      ]
    },
    {
      "cell_type": "markdown",
      "metadata": {
        "id": "MJGIeY1aqDiH"
      },
      "source": [
        "- **Hacemos un breve repaso del dataset**"
      ]
    },
    {
      "cell_type": "code",
      "execution_count": null,
      "metadata": {
        "colab": {
          "base_uri": "https://localhost:8080/"
        },
        "id": "9TGBC0ctqCIw",
        "outputId": "e1b63b1a-7855-450f-9766-a802c32c7f84"
      },
      "outputs": [
        {
          "name": "stdout",
          "output_type": "stream",
          "text": [
            "<class 'pandas.core.frame.DataFrame'>\n",
            "RangeIndex: 1854 entries, 0 to 1853\n",
            "Data columns (total 11 columns):\n",
            " #   Column   Non-Null Count  Dtype  \n",
            "---  ------   --------------  -----  \n",
            " 0   TARGET   1854 non-null   int64  \n",
            " 1   LOAN     1854 non-null   int64  \n",
            " 2   MORTDUE  1854 non-null   float64\n",
            " 3   VALUE    1854 non-null   float64\n",
            " 4   YOJ      1854 non-null   float64\n",
            " 5   DEROG    1854 non-null   float64\n",
            " 6   DELINQ   1854 non-null   float64\n",
            " 7   CLAGE    1854 non-null   float64\n",
            " 8   NINQ     1854 non-null   float64\n",
            " 9   CLNO     1854 non-null   float64\n",
            " 10  DEBTINC  1854 non-null   float64\n",
            "dtypes: float64(9), int64(2)\n",
            "memory usage: 159.5 KB\n"
          ]
        }
      ],
      "source": [
        "#Descripción sobre el tipo de datos\n",
        "\n",
        "dataset.info()"
      ]
    },
    {
      "cell_type": "code",
      "execution_count": null,
      "metadata": {
        "colab": {
          "base_uri": "https://localhost:8080/"
        },
        "id": "UjYSA_3gq8s_",
        "outputId": "0e901748-8b6d-497d-8540-3344f04b2a40"
      },
      "outputs": [
        {
          "data": {
            "text/plain": [
              "(1854, 11)"
            ]
          },
          "execution_count": 106,
          "metadata": {},
          "output_type": "execute_result"
        }
      ],
      "source": [
        "#Composición del dataset\n",
        "\n",
        "dataset.shape"
      ]
    },
    {
      "cell_type": "code",
      "execution_count": null,
      "metadata": {
        "colab": {
          "base_uri": "https://localhost:8080/",
          "height": 206
        },
        "id": "Ivk45XSXrd1E",
        "outputId": "f110f127-a155-4c7c-e135-5acfafba8142"
      },
      "outputs": [
        {
          "data": {
            "text/html": [
              "\n",
              "  <div id=\"df-54daa879-4f64-4673-95d6-94d823cea2c9\">\n",
              "    <div class=\"colab-df-container\">\n",
              "      <div>\n",
              "<style scoped>\n",
              "    .dataframe tbody tr th:only-of-type {\n",
              "        vertical-align: middle;\n",
              "    }\n",
              "\n",
              "    .dataframe tbody tr th {\n",
              "        vertical-align: top;\n",
              "    }\n",
              "\n",
              "    .dataframe thead th {\n",
              "        text-align: right;\n",
              "    }\n",
              "</style>\n",
              "<table border=\"1\" class=\"dataframe\">\n",
              "  <thead>\n",
              "    <tr style=\"text-align: right;\">\n",
              "      <th></th>\n",
              "      <th>TARGET</th>\n",
              "      <th>LOAN</th>\n",
              "      <th>MORTDUE</th>\n",
              "      <th>VALUE</th>\n",
              "      <th>YOJ</th>\n",
              "      <th>DEROG</th>\n",
              "      <th>DELINQ</th>\n",
              "      <th>CLAGE</th>\n",
              "      <th>NINQ</th>\n",
              "      <th>CLNO</th>\n",
              "      <th>DEBTINC</th>\n",
              "    </tr>\n",
              "  </thead>\n",
              "  <tbody>\n",
              "    <tr>\n",
              "      <th>0</th>\n",
              "      <td>0</td>\n",
              "      <td>4700</td>\n",
              "      <td>88026.0</td>\n",
              "      <td>115506.0</td>\n",
              "      <td>6.0</td>\n",
              "      <td>0.0</td>\n",
              "      <td>0.0</td>\n",
              "      <td>182.248332</td>\n",
              "      <td>0.0</td>\n",
              "      <td>27.0</td>\n",
              "      <td>29.209023</td>\n",
              "    </tr>\n",
              "    <tr>\n",
              "      <th>1</th>\n",
              "      <td>0</td>\n",
              "      <td>19300</td>\n",
              "      <td>39926.0</td>\n",
              "      <td>101208.0</td>\n",
              "      <td>4.0</td>\n",
              "      <td>0.0</td>\n",
              "      <td>0.0</td>\n",
              "      <td>140.051638</td>\n",
              "      <td>0.0</td>\n",
              "      <td>14.0</td>\n",
              "      <td>31.545694</td>\n",
              "    </tr>\n",
              "    <tr>\n",
              "      <th>2</th>\n",
              "      <td>0</td>\n",
              "      <td>5700</td>\n",
              "      <td>71556.0</td>\n",
              "      <td>79538.0</td>\n",
              "      <td>2.0</td>\n",
              "      <td>0.0</td>\n",
              "      <td>0.0</td>\n",
              "      <td>92.643085</td>\n",
              "      <td>0.0</td>\n",
              "      <td>15.0</td>\n",
              "      <td>41.210012</td>\n",
              "    </tr>\n",
              "    <tr>\n",
              "      <th>3</th>\n",
              "      <td>0</td>\n",
              "      <td>13000</td>\n",
              "      <td>44875.0</td>\n",
              "      <td>57713.0</td>\n",
              "      <td>0.0</td>\n",
              "      <td>1.0</td>\n",
              "      <td>0.0</td>\n",
              "      <td>184.990324</td>\n",
              "      <td>1.0</td>\n",
              "      <td>12.0</td>\n",
              "      <td>28.602076</td>\n",
              "    </tr>\n",
              "    <tr>\n",
              "      <th>4</th>\n",
              "      <td>0</td>\n",
              "      <td>19300</td>\n",
              "      <td>72752.0</td>\n",
              "      <td>106084.0</td>\n",
              "      <td>11.0</td>\n",
              "      <td>0.0</td>\n",
              "      <td>0.0</td>\n",
              "      <td>193.707100</td>\n",
              "      <td>1.0</td>\n",
              "      <td>13.0</td>\n",
              "      <td>30.686106</td>\n",
              "    </tr>\n",
              "  </tbody>\n",
              "</table>\n",
              "</div>\n",
              "      <button class=\"colab-df-convert\" onclick=\"convertToInteractive('df-54daa879-4f64-4673-95d6-94d823cea2c9')\"\n",
              "              title=\"Convert this dataframe to an interactive table.\"\n",
              "              style=\"display:none;\">\n",
              "        \n",
              "  <svg xmlns=\"http://www.w3.org/2000/svg\" height=\"24px\"viewBox=\"0 0 24 24\"\n",
              "       width=\"24px\">\n",
              "    <path d=\"M0 0h24v24H0V0z\" fill=\"none\"/>\n",
              "    <path d=\"M18.56 5.44l.94 2.06.94-2.06 2.06-.94-2.06-.94-.94-2.06-.94 2.06-2.06.94zm-11 1L8.5 8.5l.94-2.06 2.06-.94-2.06-.94L8.5 2.5l-.94 2.06-2.06.94zm10 10l.94 2.06.94-2.06 2.06-.94-2.06-.94-.94-2.06-.94 2.06-2.06.94z\"/><path d=\"M17.41 7.96l-1.37-1.37c-.4-.4-.92-.59-1.43-.59-.52 0-1.04.2-1.43.59L10.3 9.45l-7.72 7.72c-.78.78-.78 2.05 0 2.83L4 21.41c.39.39.9.59 1.41.59.51 0 1.02-.2 1.41-.59l7.78-7.78 2.81-2.81c.8-.78.8-2.07 0-2.86zM5.41 20L4 18.59l7.72-7.72 1.47 1.35L5.41 20z\"/>\n",
              "  </svg>\n",
              "      </button>\n",
              "      \n",
              "  <style>\n",
              "    .colab-df-container {\n",
              "      display:flex;\n",
              "      flex-wrap:wrap;\n",
              "      gap: 12px;\n",
              "    }\n",
              "\n",
              "    .colab-df-convert {\n",
              "      background-color: #E8F0FE;\n",
              "      border: none;\n",
              "      border-radius: 50%;\n",
              "      cursor: pointer;\n",
              "      display: none;\n",
              "      fill: #1967D2;\n",
              "      height: 32px;\n",
              "      padding: 0 0 0 0;\n",
              "      width: 32px;\n",
              "    }\n",
              "\n",
              "    .colab-df-convert:hover {\n",
              "      background-color: #E2EBFA;\n",
              "      box-shadow: 0px 1px 2px rgba(60, 64, 67, 0.3), 0px 1px 3px 1px rgba(60, 64, 67, 0.15);\n",
              "      fill: #174EA6;\n",
              "    }\n",
              "\n",
              "    [theme=dark] .colab-df-convert {\n",
              "      background-color: #3B4455;\n",
              "      fill: #D2E3FC;\n",
              "    }\n",
              "\n",
              "    [theme=dark] .colab-df-convert:hover {\n",
              "      background-color: #434B5C;\n",
              "      box-shadow: 0px 1px 3px 1px rgba(0, 0, 0, 0.15);\n",
              "      filter: drop-shadow(0px 1px 2px rgba(0, 0, 0, 0.3));\n",
              "      fill: #FFFFFF;\n",
              "    }\n",
              "  </style>\n",
              "\n",
              "      <script>\n",
              "        const buttonEl =\n",
              "          document.querySelector('#df-54daa879-4f64-4673-95d6-94d823cea2c9 button.colab-df-convert');\n",
              "        buttonEl.style.display =\n",
              "          google.colab.kernel.accessAllowed ? 'block' : 'none';\n",
              "\n",
              "        async function convertToInteractive(key) {\n",
              "          const element = document.querySelector('#df-54daa879-4f64-4673-95d6-94d823cea2c9');\n",
              "          const dataTable =\n",
              "            await google.colab.kernel.invokeFunction('convertToInteractive',\n",
              "                                                     [key], {});\n",
              "          if (!dataTable) return;\n",
              "\n",
              "          const docLinkHtml = 'Like what you see? Visit the ' +\n",
              "            '<a target=\"_blank\" href=https://colab.research.google.com/notebooks/data_table.ipynb>data table notebook</a>'\n",
              "            + ' to learn more about interactive tables.';\n",
              "          element.innerHTML = '';\n",
              "          dataTable['output_type'] = 'display_data';\n",
              "          await google.colab.output.renderOutput(dataTable, element);\n",
              "          const docLink = document.createElement('div');\n",
              "          docLink.innerHTML = docLinkHtml;\n",
              "          element.appendChild(docLink);\n",
              "        }\n",
              "      </script>\n",
              "    </div>\n",
              "  </div>\n",
              "  "
            ],
            "text/plain": [
              "   TARGET   LOAN  MORTDUE     VALUE   YOJ  DEROG  DELINQ       CLAGE  NINQ  \\\n",
              "0       0   4700  88026.0  115506.0   6.0    0.0     0.0  182.248332   0.0   \n",
              "1       0  19300  39926.0  101208.0   4.0    0.0     0.0  140.051638   0.0   \n",
              "2       0   5700  71556.0   79538.0   2.0    0.0     0.0   92.643085   0.0   \n",
              "3       0  13000  44875.0   57713.0   0.0    1.0     0.0  184.990324   1.0   \n",
              "4       0  19300  72752.0  106084.0  11.0    0.0     0.0  193.707100   1.0   \n",
              "\n",
              "   CLNO    DEBTINC  \n",
              "0  27.0  29.209023  \n",
              "1  14.0  31.545694  \n",
              "2  15.0  41.210012  \n",
              "3  12.0  28.602076  \n",
              "4  13.0  30.686106  "
            ]
          },
          "execution_count": 107,
          "metadata": {},
          "output_type": "execute_result"
        }
      ],
      "source": [
        "# Encabezado de nuestro dataset\n",
        "\n",
        "dataset.head()"
      ]
    },
    {
      "cell_type": "code",
      "execution_count": null,
      "metadata": {
        "colab": {
          "base_uri": "https://localhost:8080/",
          "height": 300
        },
        "id": "t_raDqnRvcir",
        "outputId": "1804e75a-679a-4e34-8c32-661b189b29bb"
      },
      "outputs": [
        {
          "data": {
            "text/html": [
              "\n",
              "  <div id=\"df-1bc44647-d5ea-4429-ae6d-68b50ee7092d\">\n",
              "    <div class=\"colab-df-container\">\n",
              "      <div>\n",
              "<style scoped>\n",
              "    .dataframe tbody tr th:only-of-type {\n",
              "        vertical-align: middle;\n",
              "    }\n",
              "\n",
              "    .dataframe tbody tr th {\n",
              "        vertical-align: top;\n",
              "    }\n",
              "\n",
              "    .dataframe thead th {\n",
              "        text-align: right;\n",
              "    }\n",
              "</style>\n",
              "<table border=\"1\" class=\"dataframe\">\n",
              "  <thead>\n",
              "    <tr style=\"text-align: right;\">\n",
              "      <th></th>\n",
              "      <th>TARGET</th>\n",
              "      <th>LOAN</th>\n",
              "      <th>MORTDUE</th>\n",
              "      <th>VALUE</th>\n",
              "      <th>YOJ</th>\n",
              "      <th>DEROG</th>\n",
              "      <th>DELINQ</th>\n",
              "      <th>CLAGE</th>\n",
              "      <th>NINQ</th>\n",
              "      <th>CLNO</th>\n",
              "      <th>DEBTINC</th>\n",
              "    </tr>\n",
              "  </thead>\n",
              "  <tbody>\n",
              "    <tr>\n",
              "      <th>count</th>\n",
              "      <td>1854.000000</td>\n",
              "      <td>1854.000000</td>\n",
              "      <td>1854.000000</td>\n",
              "      <td>1854.000000</td>\n",
              "      <td>1854.000000</td>\n",
              "      <td>1854.000000</td>\n",
              "      <td>1854.000000</td>\n",
              "      <td>1854.000000</td>\n",
              "      <td>1854.000000</td>\n",
              "      <td>1854.000000</td>\n",
              "      <td>1854.000000</td>\n",
              "    </tr>\n",
              "    <tr>\n",
              "      <th>mean</th>\n",
              "      <td>0.166667</td>\n",
              "      <td>19111.758360</td>\n",
              "      <td>76316.051780</td>\n",
              "      <td>107321.088457</td>\n",
              "      <td>8.900216</td>\n",
              "      <td>0.187702</td>\n",
              "      <td>0.319849</td>\n",
              "      <td>180.300783</td>\n",
              "      <td>1.128910</td>\n",
              "      <td>21.857066</td>\n",
              "      <td>34.573408</td>\n",
              "    </tr>\n",
              "    <tr>\n",
              "      <th>std</th>\n",
              "      <td>0.372779</td>\n",
              "      <td>11000.345961</td>\n",
              "      <td>46227.026585</td>\n",
              "      <td>56039.685066</td>\n",
              "      <td>7.552677</td>\n",
              "      <td>0.704882</td>\n",
              "      <td>0.928452</td>\n",
              "      <td>84.838308</td>\n",
              "      <td>1.664555</td>\n",
              "      <td>9.510840</td>\n",
              "      <td>9.308794</td>\n",
              "    </tr>\n",
              "    <tr>\n",
              "      <th>min</th>\n",
              "      <td>0.000000</td>\n",
              "      <td>1700.000000</td>\n",
              "      <td>5627.000000</td>\n",
              "      <td>21144.000000</td>\n",
              "      <td>0.000000</td>\n",
              "      <td>0.000000</td>\n",
              "      <td>0.000000</td>\n",
              "      <td>0.486711</td>\n",
              "      <td>0.000000</td>\n",
              "      <td>0.000000</td>\n",
              "      <td>0.838118</td>\n",
              "    </tr>\n",
              "    <tr>\n",
              "      <th>25%</th>\n",
              "      <td>0.000000</td>\n",
              "      <td>12000.000000</td>\n",
              "      <td>48984.750000</td>\n",
              "      <td>70787.250000</td>\n",
              "      <td>3.000000</td>\n",
              "      <td>0.000000</td>\n",
              "      <td>0.000000</td>\n",
              "      <td>116.970718</td>\n",
              "      <td>0.000000</td>\n",
              "      <td>16.000000</td>\n",
              "      <td>29.427210</td>\n",
              "    </tr>\n",
              "    <tr>\n",
              "      <th>50%</th>\n",
              "      <td>0.000000</td>\n",
              "      <td>17000.000000</td>\n",
              "      <td>67201.000000</td>\n",
              "      <td>94198.000000</td>\n",
              "      <td>7.000000</td>\n",
              "      <td>0.000000</td>\n",
              "      <td>0.000000</td>\n",
              "      <td>174.967815</td>\n",
              "      <td>1.000000</td>\n",
              "      <td>21.000000</td>\n",
              "      <td>35.363407</td>\n",
              "    </tr>\n",
              "    <tr>\n",
              "      <th>75%</th>\n",
              "      <td>0.000000</td>\n",
              "      <td>23900.000000</td>\n",
              "      <td>93731.500000</td>\n",
              "      <td>122976.250000</td>\n",
              "      <td>13.000000</td>\n",
              "      <td>0.000000</td>\n",
              "      <td>0.000000</td>\n",
              "      <td>232.261800</td>\n",
              "      <td>2.000000</td>\n",
              "      <td>27.000000</td>\n",
              "      <td>39.357987</td>\n",
              "    </tr>\n",
              "    <tr>\n",
              "      <th>max</th>\n",
              "      <td>1.000000</td>\n",
              "      <td>89800.000000</td>\n",
              "      <td>399412.000000</td>\n",
              "      <td>512650.000000</td>\n",
              "      <td>41.000000</td>\n",
              "      <td>10.000000</td>\n",
              "      <td>10.000000</td>\n",
              "      <td>1168.233561</td>\n",
              "      <td>13.000000</td>\n",
              "      <td>65.000000</td>\n",
              "      <td>144.189001</td>\n",
              "    </tr>\n",
              "  </tbody>\n",
              "</table>\n",
              "</div>\n",
              "      <button class=\"colab-df-convert\" onclick=\"convertToInteractive('df-1bc44647-d5ea-4429-ae6d-68b50ee7092d')\"\n",
              "              title=\"Convert this dataframe to an interactive table.\"\n",
              "              style=\"display:none;\">\n",
              "        \n",
              "  <svg xmlns=\"http://www.w3.org/2000/svg\" height=\"24px\"viewBox=\"0 0 24 24\"\n",
              "       width=\"24px\">\n",
              "    <path d=\"M0 0h24v24H0V0z\" fill=\"none\"/>\n",
              "    <path d=\"M18.56 5.44l.94 2.06.94-2.06 2.06-.94-2.06-.94-.94-2.06-.94 2.06-2.06.94zm-11 1L8.5 8.5l.94-2.06 2.06-.94-2.06-.94L8.5 2.5l-.94 2.06-2.06.94zm10 10l.94 2.06.94-2.06 2.06-.94-2.06-.94-.94-2.06-.94 2.06-2.06.94z\"/><path d=\"M17.41 7.96l-1.37-1.37c-.4-.4-.92-.59-1.43-.59-.52 0-1.04.2-1.43.59L10.3 9.45l-7.72 7.72c-.78.78-.78 2.05 0 2.83L4 21.41c.39.39.9.59 1.41.59.51 0 1.02-.2 1.41-.59l7.78-7.78 2.81-2.81c.8-.78.8-2.07 0-2.86zM5.41 20L4 18.59l7.72-7.72 1.47 1.35L5.41 20z\"/>\n",
              "  </svg>\n",
              "      </button>\n",
              "      \n",
              "  <style>\n",
              "    .colab-df-container {\n",
              "      display:flex;\n",
              "      flex-wrap:wrap;\n",
              "      gap: 12px;\n",
              "    }\n",
              "\n",
              "    .colab-df-convert {\n",
              "      background-color: #E8F0FE;\n",
              "      border: none;\n",
              "      border-radius: 50%;\n",
              "      cursor: pointer;\n",
              "      display: none;\n",
              "      fill: #1967D2;\n",
              "      height: 32px;\n",
              "      padding: 0 0 0 0;\n",
              "      width: 32px;\n",
              "    }\n",
              "\n",
              "    .colab-df-convert:hover {\n",
              "      background-color: #E2EBFA;\n",
              "      box-shadow: 0px 1px 2px rgba(60, 64, 67, 0.3), 0px 1px 3px 1px rgba(60, 64, 67, 0.15);\n",
              "      fill: #174EA6;\n",
              "    }\n",
              "\n",
              "    [theme=dark] .colab-df-convert {\n",
              "      background-color: #3B4455;\n",
              "      fill: #D2E3FC;\n",
              "    }\n",
              "\n",
              "    [theme=dark] .colab-df-convert:hover {\n",
              "      background-color: #434B5C;\n",
              "      box-shadow: 0px 1px 3px 1px rgba(0, 0, 0, 0.15);\n",
              "      filter: drop-shadow(0px 1px 2px rgba(0, 0, 0, 0.3));\n",
              "      fill: #FFFFFF;\n",
              "    }\n",
              "  </style>\n",
              "\n",
              "      <script>\n",
              "        const buttonEl =\n",
              "          document.querySelector('#df-1bc44647-d5ea-4429-ae6d-68b50ee7092d button.colab-df-convert');\n",
              "        buttonEl.style.display =\n",
              "          google.colab.kernel.accessAllowed ? 'block' : 'none';\n",
              "\n",
              "        async function convertToInteractive(key) {\n",
              "          const element = document.querySelector('#df-1bc44647-d5ea-4429-ae6d-68b50ee7092d');\n",
              "          const dataTable =\n",
              "            await google.colab.kernel.invokeFunction('convertToInteractive',\n",
              "                                                     [key], {});\n",
              "          if (!dataTable) return;\n",
              "\n",
              "          const docLinkHtml = 'Like what you see? Visit the ' +\n",
              "            '<a target=\"_blank\" href=https://colab.research.google.com/notebooks/data_table.ipynb>data table notebook</a>'\n",
              "            + ' to learn more about interactive tables.';\n",
              "          element.innerHTML = '';\n",
              "          dataTable['output_type'] = 'display_data';\n",
              "          await google.colab.output.renderOutput(dataTable, element);\n",
              "          const docLink = document.createElement('div');\n",
              "          docLink.innerHTML = docLinkHtml;\n",
              "          element.appendChild(docLink);\n",
              "        }\n",
              "      </script>\n",
              "    </div>\n",
              "  </div>\n",
              "  "
            ],
            "text/plain": [
              "            TARGET          LOAN        MORTDUE          VALUE          YOJ  \\\n",
              "count  1854.000000   1854.000000    1854.000000    1854.000000  1854.000000   \n",
              "mean      0.166667  19111.758360   76316.051780  107321.088457     8.900216   \n",
              "std       0.372779  11000.345961   46227.026585   56039.685066     7.552677   \n",
              "min       0.000000   1700.000000    5627.000000   21144.000000     0.000000   \n",
              "25%       0.000000  12000.000000   48984.750000   70787.250000     3.000000   \n",
              "50%       0.000000  17000.000000   67201.000000   94198.000000     7.000000   \n",
              "75%       0.000000  23900.000000   93731.500000  122976.250000    13.000000   \n",
              "max       1.000000  89800.000000  399412.000000  512650.000000    41.000000   \n",
              "\n",
              "             DEROG       DELINQ        CLAGE         NINQ         CLNO  \\\n",
              "count  1854.000000  1854.000000  1854.000000  1854.000000  1854.000000   \n",
              "mean      0.187702     0.319849   180.300783     1.128910    21.857066   \n",
              "std       0.704882     0.928452    84.838308     1.664555     9.510840   \n",
              "min       0.000000     0.000000     0.486711     0.000000     0.000000   \n",
              "25%       0.000000     0.000000   116.970718     0.000000    16.000000   \n",
              "50%       0.000000     0.000000   174.967815     1.000000    21.000000   \n",
              "75%       0.000000     0.000000   232.261800     2.000000    27.000000   \n",
              "max      10.000000    10.000000  1168.233561    13.000000    65.000000   \n",
              "\n",
              "           DEBTINC  \n",
              "count  1854.000000  \n",
              "mean     34.573408  \n",
              "std       9.308794  \n",
              "min       0.838118  \n",
              "25%      29.427210  \n",
              "50%      35.363407  \n",
              "75%      39.357987  \n",
              "max     144.189001  "
            ]
          },
          "execution_count": 108,
          "metadata": {},
          "output_type": "execute_result"
        }
      ],
      "source": [
        "#Hacemos una revisión de los estadísticos\n",
        "\n",
        "dataset.describe()"
      ]
    },
    {
      "cell_type": "markdown",
      "metadata": {
        "id": "cqExVbVZwD_T"
      },
      "source": [
        "2.1) Una de las desventajas del SGD Classifier es que es sensible al escalado de atributos, por lo que es necesario estandarizar los datos que lo componen."
      ]
    },
    {
      "cell_type": "code",
      "execution_count": null,
      "metadata": {
        "colab": {
          "base_uri": "https://localhost:8080/",
          "height": 300
        },
        "id": "e3mvSwaJ9gEH",
        "outputId": "9e22a012-e652-4af1-a416-72b0b16ce714"
      },
      "outputs": [
        {
          "data": {
            "text/html": [
              "\n",
              "  <div id=\"df-93afc991-534a-4c56-af2c-d18cd1bcf112\">\n",
              "    <div class=\"colab-df-container\">\n",
              "      <div>\n",
              "<style scoped>\n",
              "    .dataframe tbody tr th:only-of-type {\n",
              "        vertical-align: middle;\n",
              "    }\n",
              "\n",
              "    .dataframe tbody tr th {\n",
              "        vertical-align: top;\n",
              "    }\n",
              "\n",
              "    .dataframe thead th {\n",
              "        text-align: right;\n",
              "    }\n",
              "</style>\n",
              "<table border=\"1\" class=\"dataframe\">\n",
              "  <thead>\n",
              "    <tr style=\"text-align: right;\">\n",
              "      <th></th>\n",
              "      <th>LOAN</th>\n",
              "      <th>MORTDUE</th>\n",
              "      <th>VALUE</th>\n",
              "      <th>YOJ</th>\n",
              "      <th>DEROG</th>\n",
              "      <th>DELINQ</th>\n",
              "      <th>CLAGE</th>\n",
              "      <th>NINQ</th>\n",
              "      <th>CLNO</th>\n",
              "      <th>DEBTINC</th>\n",
              "    </tr>\n",
              "  </thead>\n",
              "  <tbody>\n",
              "    <tr>\n",
              "      <th>count</th>\n",
              "      <td>1854.000000</td>\n",
              "      <td>1854.000000</td>\n",
              "      <td>1854.000000</td>\n",
              "      <td>1854.000000</td>\n",
              "      <td>1854.000000</td>\n",
              "      <td>1854.000000</td>\n",
              "      <td>1854.000000</td>\n",
              "      <td>1854.000000</td>\n",
              "      <td>1854.000000</td>\n",
              "      <td>1854.000000</td>\n",
              "    </tr>\n",
              "    <tr>\n",
              "      <th>mean</th>\n",
              "      <td>0.197636</td>\n",
              "      <td>0.179512</td>\n",
              "      <td>0.175333</td>\n",
              "      <td>0.217078</td>\n",
              "      <td>0.018770</td>\n",
              "      <td>0.031985</td>\n",
              "      <td>0.153984</td>\n",
              "      <td>0.086839</td>\n",
              "      <td>0.336263</td>\n",
              "      <td>0.235334</td>\n",
              "    </tr>\n",
              "    <tr>\n",
              "      <th>std</th>\n",
              "      <td>0.124862</td>\n",
              "      <td>0.117392</td>\n",
              "      <td>0.114016</td>\n",
              "      <td>0.184212</td>\n",
              "      <td>0.070488</td>\n",
              "      <td>0.092845</td>\n",
              "      <td>0.072651</td>\n",
              "      <td>0.128043</td>\n",
              "      <td>0.146321</td>\n",
              "      <td>0.064937</td>\n",
              "    </tr>\n",
              "    <tr>\n",
              "      <th>min</th>\n",
              "      <td>0.000000</td>\n",
              "      <td>0.000000</td>\n",
              "      <td>0.000000</td>\n",
              "      <td>0.000000</td>\n",
              "      <td>0.000000</td>\n",
              "      <td>0.000000</td>\n",
              "      <td>0.000000</td>\n",
              "      <td>0.000000</td>\n",
              "      <td>0.000000</td>\n",
              "      <td>0.000000</td>\n",
              "    </tr>\n",
              "    <tr>\n",
              "      <th>25%</th>\n",
              "      <td>0.116913</td>\n",
              "      <td>0.110105</td>\n",
              "      <td>0.101002</td>\n",
              "      <td>0.073171</td>\n",
              "      <td>0.000000</td>\n",
              "      <td>0.000000</td>\n",
              "      <td>0.099751</td>\n",
              "      <td>0.000000</td>\n",
              "      <td>0.246154</td>\n",
              "      <td>0.199434</td>\n",
              "    </tr>\n",
              "    <tr>\n",
              "      <th>50%</th>\n",
              "      <td>0.173666</td>\n",
              "      <td>0.156365</td>\n",
              "      <td>0.148633</td>\n",
              "      <td>0.170732</td>\n",
              "      <td>0.000000</td>\n",
              "      <td>0.000000</td>\n",
              "      <td>0.149417</td>\n",
              "      <td>0.076923</td>\n",
              "      <td>0.323077</td>\n",
              "      <td>0.240845</td>\n",
              "    </tr>\n",
              "    <tr>\n",
              "      <th>75%</th>\n",
              "      <td>0.251986</td>\n",
              "      <td>0.223738</td>\n",
              "      <td>0.207184</td>\n",
              "      <td>0.317073</td>\n",
              "      <td>0.000000</td>\n",
              "      <td>0.000000</td>\n",
              "      <td>0.198481</td>\n",
              "      <td>0.153846</td>\n",
              "      <td>0.415385</td>\n",
              "      <td>0.268710</td>\n",
              "    </tr>\n",
              "    <tr>\n",
              "      <th>max</th>\n",
              "      <td>1.000000</td>\n",
              "      <td>1.000000</td>\n",
              "      <td>1.000000</td>\n",
              "      <td>1.000000</td>\n",
              "      <td>1.000000</td>\n",
              "      <td>1.000000</td>\n",
              "      <td>1.000000</td>\n",
              "      <td>1.000000</td>\n",
              "      <td>1.000000</td>\n",
              "      <td>1.000000</td>\n",
              "    </tr>\n",
              "  </tbody>\n",
              "</table>\n",
              "</div>\n",
              "      <button class=\"colab-df-convert\" onclick=\"convertToInteractive('df-93afc991-534a-4c56-af2c-d18cd1bcf112')\"\n",
              "              title=\"Convert this dataframe to an interactive table.\"\n",
              "              style=\"display:none;\">\n",
              "        \n",
              "  <svg xmlns=\"http://www.w3.org/2000/svg\" height=\"24px\"viewBox=\"0 0 24 24\"\n",
              "       width=\"24px\">\n",
              "    <path d=\"M0 0h24v24H0V0z\" fill=\"none\"/>\n",
              "    <path d=\"M18.56 5.44l.94 2.06.94-2.06 2.06-.94-2.06-.94-.94-2.06-.94 2.06-2.06.94zm-11 1L8.5 8.5l.94-2.06 2.06-.94-2.06-.94L8.5 2.5l-.94 2.06-2.06.94zm10 10l.94 2.06.94-2.06 2.06-.94-2.06-.94-.94-2.06-.94 2.06-2.06.94z\"/><path d=\"M17.41 7.96l-1.37-1.37c-.4-.4-.92-.59-1.43-.59-.52 0-1.04.2-1.43.59L10.3 9.45l-7.72 7.72c-.78.78-.78 2.05 0 2.83L4 21.41c.39.39.9.59 1.41.59.51 0 1.02-.2 1.41-.59l7.78-7.78 2.81-2.81c.8-.78.8-2.07 0-2.86zM5.41 20L4 18.59l7.72-7.72 1.47 1.35L5.41 20z\"/>\n",
              "  </svg>\n",
              "      </button>\n",
              "      \n",
              "  <style>\n",
              "    .colab-df-container {\n",
              "      display:flex;\n",
              "      flex-wrap:wrap;\n",
              "      gap: 12px;\n",
              "    }\n",
              "\n",
              "    .colab-df-convert {\n",
              "      background-color: #E8F0FE;\n",
              "      border: none;\n",
              "      border-radius: 50%;\n",
              "      cursor: pointer;\n",
              "      display: none;\n",
              "      fill: #1967D2;\n",
              "      height: 32px;\n",
              "      padding: 0 0 0 0;\n",
              "      width: 32px;\n",
              "    }\n",
              "\n",
              "    .colab-df-convert:hover {\n",
              "      background-color: #E2EBFA;\n",
              "      box-shadow: 0px 1px 2px rgba(60, 64, 67, 0.3), 0px 1px 3px 1px rgba(60, 64, 67, 0.15);\n",
              "      fill: #174EA6;\n",
              "    }\n",
              "\n",
              "    [theme=dark] .colab-df-convert {\n",
              "      background-color: #3B4455;\n",
              "      fill: #D2E3FC;\n",
              "    }\n",
              "\n",
              "    [theme=dark] .colab-df-convert:hover {\n",
              "      background-color: #434B5C;\n",
              "      box-shadow: 0px 1px 3px 1px rgba(0, 0, 0, 0.15);\n",
              "      filter: drop-shadow(0px 1px 2px rgba(0, 0, 0, 0.3));\n",
              "      fill: #FFFFFF;\n",
              "    }\n",
              "  </style>\n",
              "\n",
              "      <script>\n",
              "        const buttonEl =\n",
              "          document.querySelector('#df-93afc991-534a-4c56-af2c-d18cd1bcf112 button.colab-df-convert');\n",
              "        buttonEl.style.display =\n",
              "          google.colab.kernel.accessAllowed ? 'block' : 'none';\n",
              "\n",
              "        async function convertToInteractive(key) {\n",
              "          const element = document.querySelector('#df-93afc991-534a-4c56-af2c-d18cd1bcf112');\n",
              "          const dataTable =\n",
              "            await google.colab.kernel.invokeFunction('convertToInteractive',\n",
              "                                                     [key], {});\n",
              "          if (!dataTable) return;\n",
              "\n",
              "          const docLinkHtml = 'Like what you see? Visit the ' +\n",
              "            '<a target=\"_blank\" href=https://colab.research.google.com/notebooks/data_table.ipynb>data table notebook</a>'\n",
              "            + ' to learn more about interactive tables.';\n",
              "          element.innerHTML = '';\n",
              "          dataTable['output_type'] = 'display_data';\n",
              "          await google.colab.output.renderOutput(dataTable, element);\n",
              "          const docLink = document.createElement('div');\n",
              "          docLink.innerHTML = docLinkHtml;\n",
              "          element.appendChild(docLink);\n",
              "        }\n",
              "      </script>\n",
              "    </div>\n",
              "  </div>\n",
              "  "
            ],
            "text/plain": [
              "              LOAN      MORTDUE        VALUE          YOJ        DEROG  \\\n",
              "count  1854.000000  1854.000000  1854.000000  1854.000000  1854.000000   \n",
              "mean      0.197636     0.179512     0.175333     0.217078     0.018770   \n",
              "std       0.124862     0.117392     0.114016     0.184212     0.070488   \n",
              "min       0.000000     0.000000     0.000000     0.000000     0.000000   \n",
              "25%       0.116913     0.110105     0.101002     0.073171     0.000000   \n",
              "50%       0.173666     0.156365     0.148633     0.170732     0.000000   \n",
              "75%       0.251986     0.223738     0.207184     0.317073     0.000000   \n",
              "max       1.000000     1.000000     1.000000     1.000000     1.000000   \n",
              "\n",
              "            DELINQ        CLAGE         NINQ         CLNO      DEBTINC  \n",
              "count  1854.000000  1854.000000  1854.000000  1854.000000  1854.000000  \n",
              "mean      0.031985     0.153984     0.086839     0.336263     0.235334  \n",
              "std       0.092845     0.072651     0.128043     0.146321     0.064937  \n",
              "min       0.000000     0.000000     0.000000     0.000000     0.000000  \n",
              "25%       0.000000     0.099751     0.000000     0.246154     0.199434  \n",
              "50%       0.000000     0.149417     0.076923     0.323077     0.240845  \n",
              "75%       0.000000     0.198481     0.153846     0.415385     0.268710  \n",
              "max       1.000000     1.000000     1.000000     1.000000     1.000000  "
            ]
          },
          "execution_count": 109,
          "metadata": {},
          "output_type": "execute_result"
        }
      ],
      "source": [
        "scaler = MinMaxScaler()\n",
        "\n",
        "scaled_matrix = scaler.fit_transform(X)\n",
        "\n",
        "X_scaled = pd.DataFrame(data=scaled_matrix, columns=X.columns)\n",
        "\n",
        "#Observamos los estadísticos luego de estandarizar\n",
        "\n",
        "X_scaled.describe()"
      ]
    },
    {
      "cell_type": "code",
      "execution_count": null,
      "metadata": {
        "id": "fUtcmQaoHMbQ"
      },
      "outputs": [],
      "source": [
        "#Hacemos la división entre entrenamiento y evaluación\n",
        "\n",
        "X_train, X_test, y_train, y_test = train_test_split(X_scaled, y, test_size=0.2, random_state=0)"
      ]
    },
    {
      "cell_type": "code",
      "execution_count": null,
      "metadata": {
        "id": "2BbJkBQPOW2H"
      },
      "outputs": [],
      "source": [
        "model = SGDClassifier(random_state=0)\n",
        "\n",
        "model.fit(X_train, y_train);"
      ]
    },
    {
      "cell_type": "markdown",
      "metadata": {
        "id": "FotXLVsaOaoy"
      },
      "source": [
        "- **Métricas de entrenamiento**"
      ]
    },
    {
      "cell_type": "code",
      "execution_count": null,
      "metadata": {
        "colab": {
          "base_uri": "https://localhost:8080/"
        },
        "id": "mDq-gST5OZmN",
        "outputId": "648a2674-b41a-43fb-ef77-6688ce8a68a4"
      },
      "outputs": [
        {
          "name": "stdout",
          "output_type": "stream",
          "text": [
            "              precision    recall  f1-score   support\n",
            "\n",
            "           0       0.88      0.98      0.93      1232\n",
            "           1       0.78      0.35      0.48       251\n",
            "\n",
            "    accuracy                           0.87      1483\n",
            "   macro avg       0.83      0.66      0.70      1483\n",
            "weighted avg       0.86      0.87      0.85      1483\n",
            "\n"
          ]
        }
      ],
      "source": [
        "y_train_pred = model.predict(X_train)\n",
        "\n",
        "print(classification_report(y_train, y_train_pred, zero_division=0))"
      ]
    },
    {
      "cell_type": "markdown",
      "metadata": {
        "id": "OkhuuYTLTwh7"
      },
      "source": [
        "- Matriz de confusión"
      ]
    },
    {
      "cell_type": "code",
      "execution_count": null,
      "metadata": {
        "colab": {
          "base_uri": "https://localhost:8080/",
          "height": 445
        },
        "id": "jvviurBuQMgV",
        "outputId": "65b9f6de-35ec-4d6d-ad35-83b5ca3ab0d4"
      },
      "outputs": [
        {
          "name": "stderr",
          "output_type": "stream",
          "text": [
            "/usr/local/lib/python3.7/dist-packages/sklearn/utils/deprecation.py:87: FutureWarning: Function plot_confusion_matrix is deprecated; Function `plot_confusion_matrix` is deprecated in 1.0 and will be removed in 1.2. Use one of the class methods: ConfusionMatrixDisplay.from_predictions or ConfusionMatrixDisplay.from_estimator.\n",
            "  warnings.warn(msg, category=FutureWarning)\n"
          ]
        },
        {
          "data": {
            "image/png": "[encoded data removed]",
            "text/plain": [
              "<Figure size 720x432 with 2 Axes>"
            ]
          },
          "metadata": {
            "needs_background": "light"
          },
          "output_type": "display_data"
        }
      ],
      "source": [
        "fig, ax = plt.subplots(figsize=(10, 6))\n",
        "\n",
        "plot_confusion_matrix(model, X_train, y_train,\n",
        "                      ax=ax, cmap=plt.cm.PuRd,\n",
        "                      labels=[1, 0],\n",
        "                      display_labels=['Default', 'Repaid']);"
      ]
    },
    {
      "cell_type": "markdown",
      "metadata": {
        "id": "4fXfNihSVvRf"
      },
      "source": [
        "- **Métricas de evaluación**"
      ]
    },
    {
      "cell_type": "code",
      "execution_count": null,
      "metadata": {
        "colab": {
          "base_uri": "https://localhost:8080/"
        },
        "id": "_yx4WCl3V25l",
        "outputId": "aed05c5a-7efb-44bc-f41b-c24fcf3c9049"
      },
      "outputs": [
        {
          "name": "stdout",
          "output_type": "stream",
          "text": [
            "              precision    recall  f1-score   support\n",
            "\n",
            "           0       0.89      0.98      0.93       313\n",
            "           1       0.74      0.34      0.47        58\n",
            "\n",
            "    accuracy                           0.88       371\n",
            "   macro avg       0.82      0.66      0.70       371\n",
            "weighted avg       0.87      0.88      0.86       371\n",
            "\n"
          ]
        }
      ],
      "source": [
        "y_test_pred = model.predict(X_test)\n",
        "\n",
        "print(classification_report(y_test, y_test_pred, zero_division=0))"
      ]
    },
    {
      "cell_type": "markdown",
      "metadata": {
        "id": "HU25y954Trut"
      },
      "source": [
        "- Matriz de confusión"
      ]
    },
    {
      "cell_type": "code",
      "execution_count": null,
      "metadata": {
        "colab": {
          "base_uri": "https://localhost:8080/",
          "height": 443
        },
        "id": "96NJ2pHKWMAl",
        "outputId": "5a236dda-90b7-4893-b05d-3ed6f0d73b98"
      },
      "outputs": [
        {
          "name": "stderr",
          "output_type": "stream",
          "text": [
            "/usr/local/lib/python3.7/dist-packages/sklearn/utils/deprecation.py:87: FutureWarning: Function plot_confusion_matrix is deprecated; Function `plot_confusion_matrix` is deprecated in 1.0 and will be removed in 1.2. Use one of the class methods: ConfusionMatrixDisplay.from_predictions or ConfusionMatrixDisplay.from_estimator.\n",
            "  warnings.warn(msg, category=FutureWarning)\n"
          ]
        },
        {
          "data": {
            "image/png": "[encoded data removed]",
            "text/plain": [
              "<Figure size 720x432 with 2 Axes>"
            ]
          },
          "metadata": {
            "needs_background": "light"
          },
          "output_type": "display_data"
        }
      ],
      "source": [
        "fig, ax = plt.subplots(figsize=(10, 6))\n",
        "\n",
        "plot_confusion_matrix(model, X_test, y_test,\n",
        "                      ax=ax, cmap=plt.cm.PuRd,\n",
        "                      labels=[1, 0],\n",
        "                      display_labels=['Default', 'Repaid']);"
      ]
    },
    {
      "cell_type": "markdown",
      "metadata": {
        "id": "SA6Wk-EZfkna"
      },
      "source": [
        ". **Conclusión**\n",
        "\n",
        "- Entrenando y evaluando el clasificador SGB Classifier llegamos a encontrarnos con un desbalanceo de las clases binarias, esto es observar que en nuestro conjunto de datos de entrenamiento contamos con que alguna de las dos clases de la muestra es una clase minoritaria, es decir, de la cual tenemos muy pocos casos.\n",
        "Cuando tenemos un dataset con desequilibrio suele ocurrir que obtenemos un alto valor de precisión en la clase mayoritaria: en nuestro caso como podemos ver en el reporte de entrenamiento el valor es de 0.88 para la clase 0, incluso mejorando un punto (0.89) en el reporte de evaluación para la misma clase; y un bajo valor de exhaustividad para la clase minoritaria: en nuestro caso como podemos ver en el reporte de entrenamiento el valor es de 0.35 para la clase 1, siendo un punto más bajo en el reporte de evaluación para la misma clase (0.34).\n",
        "Para la clase 0 tenemos una alta precisión y una alta exhaustividad lo que indica que el modelo maneja muy bien esa clase a partir de las métricas.\n",
        "Para la clase 1 tenemos una precisón bastante aceptable según los reportes de entrenamiento y evaluación, 0.78 y 0.74 respectivamente, pero una baja exhaustividad para ambos reportes como habíamos mencionado previamente. Esto nos está indicando que el modelo no detecta la clase muy bien, pero cuando lo hace es confiable.\n",
        "Es por ello que vamos a obervar el indicador F1 que arroja una métrica más parcial, si queremos llamarla, a la hora de contar con una distribución de clases desiguales. En este caso nos importa tanto el valor de precisión como el valor de exhaustividad de cada clase. Para la clase 0, el rendimiento del modelo sigue siento alto, mientras que para la clase 1 el rendimiento es bajo para el modelo que se está utilizando.\n",
        "\n",
        "- Observamos que la clase minoritaria se encuentra perjudicada por el desbalanceo existente, por lo que podemos recomendar una serie de estrategias para mejorar dicha situación:\n",
        "\n",
        "  1) **Ajuste de parámetros del modelo**: Se ajustan las métricas del algoritmo para intentar equilibrar la clase minoritaria,  penalizando a la clase mayoritaria durante el entrenamiento.\n",
        "\n",
        "  2) **Modificar el Dataset**: Por ejemplo, podemos eliminar muestras de la clase mayoritaria para reducirlo e intentar equilibrar la situación. Tiene como contra que podemos prescindir de muestras importantes que brindan información y por lo tanto empeorar el modelo. Entonces para seleccionar qué muestras eliminar, deberíamos seguir algún criterio.\n",
        "\n",
        "  3) **Muestras artificiales**: Primero podemos intentar crear muestras sintéticas (no idénticas) utilizando diversos algoritmos que intentan seguir la tendencia del grupo minoritario. Según el método, podemos mejorar los resultados. Lo peligroso de crear muestras sintéticas es que podemos alterar la distribución natural de esa clase y confundir al modelo en su clasificación.\n",
        "\n",
        "  4) **Balanced Ensemble Methods**: Utiliza las ventajas de hacer ensamble de métodos, es decir, entrenar diversos modelos y entre todos obtener el resultado final (\"voting\") pero se asegura de tomar muestras de entrenamiento equilibradas."
      ]
    },
    {
      "cell_type": "markdown",
      "metadata": {
        "id": "fITlJOrnPHCh"
      },
      "source": [
        "### Ejercicio 2.2: Ajuste de Hiperparámetros\n",
        "\n",
        "Seleccionar valores para los hiperparámetros principales del SGDClassifier. Como mínimo, probar diferentes funciones de loss, tasas de entrenamiento y tasas de regularización.\n",
        "\n",
        "Para ello, usar grid-search y 5-fold cross-validation sobre el conjunto de entrenamiento para explorar muchas combinaciones posibles de valores.\n",
        "\n",
        "Reportar accuracy promedio y varianza para todas las configuraciones.\n",
        "\n",
        "Para la mejor configuración encontrada, evaluar sobre el conjunto de **entrenamiento** y sobre el conjunto de **evaluación**, reportando:\n",
        "- Accuracy\n",
        "- Precision\n",
        "- Recall\n",
        "- F1\n",
        "- matriz de confusión\n",
        "\n",
        "Documentación:\n",
        "- https://scikit-learn.org/stable/modules/grid_search.html\n",
        "- https://scikit-learn.org/stable/modules/generated/sklearn.model_selection.GridSearchCV.html"
      ]
    },
    {
      "cell_type": "code",
      "execution_count": null,
      "metadata": {
        "id": "OfvxbkzmbUjm"
      },
      "outputs": [],
      "source": [
        "#Valores para los hiperparámetros\n",
        "\n",
        "param_grid = {\n",
        "    'loss': ['hinge', 'perceptron', 'log'],\n",
        "    'alpha': [0.0001, 0.001, 0.01, 0.1, 1],\n",
        "    'penalty': ['l2', 'l1', 'elasticnet'],\n",
        "}"
      ]
    },
    {
      "cell_type": "code",
      "execution_count": null,
      "metadata": {
        "id": "-YGMPjJ5cVnE"
      },
      "outputs": [],
      "source": [
        "model = SGDClassifier(max_iter=10000, random_state=0)\n",
        "\n",
        "cv = GridSearchCV(model, param_grid, scoring='accuracy', cv=5)\n",
        "cv.fit(X_train, y_train);"
      ]
    },
    {
      "cell_type": "code",
      "execution_count": null,
      "metadata": {
        "colab": {
          "base_uri": "https://localhost:8080/",
          "height": 1000
        },
        "id": "x-ldhulhRaeO",
        "outputId": "a67c9ff3-7437-4e19-cfbe-7168ed1ed5e4"
      },
      "outputs": [
        {
          "data": {
            "text/html": [
              "\n",
              "  <div id=\"df-3ca0d8e7-6b68-4464-8d38-7e741d09665c\">\n",
              "    <div class=\"colab-df-container\">\n",
              "      <div>\n",
              "<style scoped>\n",
              "    .dataframe tbody tr th:only-of-type {\n",
              "        vertical-align: middle;\n",
              "    }\n",
              "\n",
              "    .dataframe tbody tr th {\n",
              "        vertical-align: top;\n",
              "    }\n",
              "\n",
              "    .dataframe thead th {\n",
              "        text-align: right;\n",
              "    }\n",
              "</style>\n",
              "<table border=\"1\" class=\"dataframe\">\n",
              "  <thead>\n",
              "    <tr style=\"text-align: right;\">\n",
              "      <th></th>\n",
              "      <th>param_loss</th>\n",
              "      <th>param_alpha</th>\n",
              "      <th>param_penalty</th>\n",
              "      <th>mean_test_score</th>\n",
              "      <th>std_test_score</th>\n",
              "      <th>rank_test_score</th>\n",
              "    </tr>\n",
              "  </thead>\n",
              "  <tbody>\n",
              "    <tr>\n",
              "      <th>0</th>\n",
              "      <td>hinge</td>\n",
              "      <td>0.0001</td>\n",
              "      <td>l2</td>\n",
              "      <td>0.868514</td>\n",
              "      <td>0.008732</td>\n",
              "      <td>2</td>\n",
              "    </tr>\n",
              "    <tr>\n",
              "      <th>1</th>\n",
              "      <td>hinge</td>\n",
              "      <td>0.0001</td>\n",
              "      <td>l1</td>\n",
              "      <td>0.869190</td>\n",
              "      <td>0.014962</td>\n",
              "      <td>1</td>\n",
              "    </tr>\n",
              "    <tr>\n",
              "      <th>2</th>\n",
              "      <td>hinge</td>\n",
              "      <td>0.0001</td>\n",
              "      <td>elasticnet</td>\n",
              "      <td>0.865809</td>\n",
              "      <td>0.006613</td>\n",
              "      <td>3</td>\n",
              "    </tr>\n",
              "    <tr>\n",
              "      <th>3</th>\n",
              "      <td>perceptron</td>\n",
              "      <td>0.0001</td>\n",
              "      <td>l2</td>\n",
              "      <td>0.717188</td>\n",
              "      <td>0.272492</td>\n",
              "      <td>37</td>\n",
              "    </tr>\n",
              "    <tr>\n",
              "      <th>4</th>\n",
              "      <td>perceptron</td>\n",
              "      <td>0.0001</td>\n",
              "      <td>l1</td>\n",
              "      <td>0.861778</td>\n",
              "      <td>0.012507</td>\n",
              "      <td>6</td>\n",
              "    </tr>\n",
              "    <tr>\n",
              "      <th>5</th>\n",
              "      <td>perceptron</td>\n",
              "      <td>0.0001</td>\n",
              "      <td>elasticnet</td>\n",
              "      <td>0.632050</td>\n",
              "      <td>0.283379</td>\n",
              "      <td>43</td>\n",
              "    </tr>\n",
              "    <tr>\n",
              "      <th>6</th>\n",
              "      <td>log</td>\n",
              "      <td>0.0001</td>\n",
              "      <td>l2</td>\n",
              "      <td>0.861766</td>\n",
              "      <td>0.012620</td>\n",
              "      <td>7</td>\n",
              "    </tr>\n",
              "    <tr>\n",
              "      <th>7</th>\n",
              "      <td>log</td>\n",
              "      <td>0.0001</td>\n",
              "      <td>l1</td>\n",
              "      <td>0.863798</td>\n",
              "      <td>0.014815</td>\n",
              "      <td>5</td>\n",
              "    </tr>\n",
              "    <tr>\n",
              "      <th>8</th>\n",
              "      <td>log</td>\n",
              "      <td>0.0001</td>\n",
              "      <td>elasticnet</td>\n",
              "      <td>0.861091</td>\n",
              "      <td>0.013406</td>\n",
              "      <td>9</td>\n",
              "    </tr>\n",
              "    <tr>\n",
              "      <th>9</th>\n",
              "      <td>hinge</td>\n",
              "      <td>0.001</td>\n",
              "      <td>l2</td>\n",
              "      <td>0.847609</td>\n",
              "      <td>0.003162</td>\n",
              "      <td>15</td>\n",
              "    </tr>\n",
              "    <tr>\n",
              "      <th>10</th>\n",
              "      <td>hinge</td>\n",
              "      <td>0.001</td>\n",
              "      <td>l1</td>\n",
              "      <td>0.860422</td>\n",
              "      <td>0.004933</td>\n",
              "      <td>10</td>\n",
              "    </tr>\n",
              "    <tr>\n",
              "      <th>11</th>\n",
              "      <td>hinge</td>\n",
              "      <td>0.001</td>\n",
              "      <td>elasticnet</td>\n",
              "      <td>0.850305</td>\n",
              "      <td>0.005427</td>\n",
              "      <td>12</td>\n",
              "    </tr>\n",
              "    <tr>\n",
              "      <th>12</th>\n",
              "      <td>perceptron</td>\n",
              "      <td>0.001</td>\n",
              "      <td>l2</td>\n",
              "      <td>0.801033</td>\n",
              "      <td>0.078126</td>\n",
              "      <td>36</td>\n",
              "    </tr>\n",
              "    <tr>\n",
              "      <th>13</th>\n",
              "      <td>perceptron</td>\n",
              "      <td>0.001</td>\n",
              "      <td>l1</td>\n",
              "      <td>0.861113</td>\n",
              "      <td>0.022297</td>\n",
              "      <td>8</td>\n",
              "    </tr>\n",
              "    <tr>\n",
              "      <th>14</th>\n",
              "      <td>perceptron</td>\n",
              "      <td>0.001</td>\n",
              "      <td>elasticnet</td>\n",
              "      <td>0.700296</td>\n",
              "      <td>0.260291</td>\n",
              "      <td>38</td>\n",
              "    </tr>\n",
              "    <tr>\n",
              "      <th>15</th>\n",
              "      <td>log</td>\n",
              "      <td>0.001</td>\n",
              "      <td>l2</td>\n",
              "      <td>0.848958</td>\n",
              "      <td>0.003795</td>\n",
              "      <td>14</td>\n",
              "    </tr>\n",
              "    <tr>\n",
              "      <th>16</th>\n",
              "      <td>log</td>\n",
              "      <td>0.001</td>\n",
              "      <td>l1</td>\n",
              "      <td>0.859746</td>\n",
              "      <td>0.004982</td>\n",
              "      <td>11</td>\n",
              "    </tr>\n",
              "    <tr>\n",
              "      <th>17</th>\n",
              "      <td>log</td>\n",
              "      <td>0.001</td>\n",
              "      <td>elasticnet</td>\n",
              "      <td>0.848960</td>\n",
              "      <td>0.004276</td>\n",
              "      <td>13</td>\n",
              "    </tr>\n",
              "    <tr>\n",
              "      <th>18</th>\n",
              "      <td>hinge</td>\n",
              "      <td>0.01</td>\n",
              "      <td>l2</td>\n",
              "      <td>0.830749</td>\n",
              "      <td>0.001259</td>\n",
              "      <td>17</td>\n",
              "    </tr>\n",
              "    <tr>\n",
              "      <th>19</th>\n",
              "      <td>hinge</td>\n",
              "      <td>0.01</td>\n",
              "      <td>l1</td>\n",
              "      <td>0.830749</td>\n",
              "      <td>0.001259</td>\n",
              "      <td>17</td>\n",
              "    </tr>\n",
              "    <tr>\n",
              "      <th>20</th>\n",
              "      <td>hinge</td>\n",
              "      <td>0.01</td>\n",
              "      <td>elasticnet</td>\n",
              "      <td>0.830749</td>\n",
              "      <td>0.001259</td>\n",
              "      <td>17</td>\n",
              "    </tr>\n",
              "    <tr>\n",
              "      <th>21</th>\n",
              "      <td>perceptron</td>\n",
              "      <td>0.01</td>\n",
              "      <td>l2</td>\n",
              "      <td>0.808561</td>\n",
              "      <td>0.096354</td>\n",
              "      <td>35</td>\n",
              "    </tr>\n",
              "    <tr>\n",
              "      <th>22</th>\n",
              "      <td>perceptron</td>\n",
              "      <td>0.01</td>\n",
              "      <td>l1</td>\n",
              "      <td>0.692702</td>\n",
              "      <td>0.262622</td>\n",
              "      <td>42</td>\n",
              "    </tr>\n",
              "    <tr>\n",
              "      <th>23</th>\n",
              "      <td>perceptron</td>\n",
              "      <td>0.01</td>\n",
              "      <td>elasticnet</td>\n",
              "      <td>0.601829</td>\n",
              "      <td>0.313192</td>\n",
              "      <td>44</td>\n",
              "    </tr>\n",
              "    <tr>\n",
              "      <th>24</th>\n",
              "      <td>log</td>\n",
              "      <td>0.01</td>\n",
              "      <td>l2</td>\n",
              "      <td>0.830749</td>\n",
              "      <td>0.001259</td>\n",
              "      <td>17</td>\n",
              "    </tr>\n",
              "    <tr>\n",
              "      <th>25</th>\n",
              "      <td>log</td>\n",
              "      <td>0.01</td>\n",
              "      <td>l1</td>\n",
              "      <td>0.830749</td>\n",
              "      <td>0.001259</td>\n",
              "      <td>17</td>\n",
              "    </tr>\n",
              "    <tr>\n",
              "      <th>26</th>\n",
              "      <td>log</td>\n",
              "      <td>0.01</td>\n",
              "      <td>elasticnet</td>\n",
              "      <td>0.830749</td>\n",
              "      <td>0.001259</td>\n",
              "      <td>17</td>\n",
              "    </tr>\n",
              "    <tr>\n",
              "      <th>27</th>\n",
              "      <td>hinge</td>\n",
              "      <td>0.1</td>\n",
              "      <td>l2</td>\n",
              "      <td>0.830749</td>\n",
              "      <td>0.001259</td>\n",
              "      <td>17</td>\n",
              "    </tr>\n",
              "    <tr>\n",
              "      <th>28</th>\n",
              "      <td>hinge</td>\n",
              "      <td>0.1</td>\n",
              "      <td>l1</td>\n",
              "      <td>0.830749</td>\n",
              "      <td>0.001259</td>\n",
              "      <td>17</td>\n",
              "    </tr>\n",
              "    <tr>\n",
              "      <th>29</th>\n",
              "      <td>hinge</td>\n",
              "      <td>0.1</td>\n",
              "      <td>elasticnet</td>\n",
              "      <td>0.830749</td>\n",
              "      <td>0.001259</td>\n",
              "      <td>17</td>\n",
              "    </tr>\n",
              "    <tr>\n",
              "      <th>30</th>\n",
              "      <td>perceptron</td>\n",
              "      <td>0.1</td>\n",
              "      <td>l2</td>\n",
              "      <td>0.838131</td>\n",
              "      <td>0.034789</td>\n",
              "      <td>16</td>\n",
              "    </tr>\n",
              "    <tr>\n",
              "      <th>31</th>\n",
              "      <td>perceptron</td>\n",
              "      <td>0.1</td>\n",
              "      <td>l1</td>\n",
              "      <td>0.698089</td>\n",
              "      <td>0.264872</td>\n",
              "      <td>39</td>\n",
              "    </tr>\n",
              "    <tr>\n",
              "      <th>32</th>\n",
              "      <td>perceptron</td>\n",
              "      <td>0.1</td>\n",
              "      <td>elasticnet</td>\n",
              "      <td>0.566776</td>\n",
              "      <td>0.323940</td>\n",
              "      <td>45</td>\n",
              "    </tr>\n",
              "    <tr>\n",
              "      <th>33</th>\n",
              "      <td>log</td>\n",
              "      <td>0.1</td>\n",
              "      <td>l2</td>\n",
              "      <td>0.830749</td>\n",
              "      <td>0.001259</td>\n",
              "      <td>17</td>\n",
              "    </tr>\n",
              "    <tr>\n",
              "      <th>34</th>\n",
              "      <td>log</td>\n",
              "      <td>0.1</td>\n",
              "      <td>l1</td>\n",
              "      <td>0.830749</td>\n",
              "      <td>0.001259</td>\n",
              "      <td>17</td>\n",
              "    </tr>\n",
              "    <tr>\n",
              "      <th>35</th>\n",
              "      <td>log</td>\n",
              "      <td>0.1</td>\n",
              "      <td>elasticnet</td>\n",
              "      <td>0.830749</td>\n",
              "      <td>0.001259</td>\n",
              "      <td>17</td>\n",
              "    </tr>\n",
              "    <tr>\n",
              "      <th>36</th>\n",
              "      <td>hinge</td>\n",
              "      <td>1</td>\n",
              "      <td>l2</td>\n",
              "      <td>0.830749</td>\n",
              "      <td>0.001259</td>\n",
              "      <td>17</td>\n",
              "    </tr>\n",
              "    <tr>\n",
              "      <th>37</th>\n",
              "      <td>hinge</td>\n",
              "      <td>1</td>\n",
              "      <td>l1</td>\n",
              "      <td>0.830749</td>\n",
              "      <td>0.001259</td>\n",
              "      <td>17</td>\n",
              "    </tr>\n",
              "    <tr>\n",
              "      <th>38</th>\n",
              "      <td>hinge</td>\n",
              "      <td>1</td>\n",
              "      <td>elasticnet</td>\n",
              "      <td>0.830749</td>\n",
              "      <td>0.001259</td>\n",
              "      <td>17</td>\n",
              "    </tr>\n",
              "    <tr>\n",
              "      <th>39</th>\n",
              "      <td>perceptron</td>\n",
              "      <td>1</td>\n",
              "      <td>l2</td>\n",
              "      <td>0.865154</td>\n",
              "      <td>0.019109</td>\n",
              "      <td>4</td>\n",
              "    </tr>\n",
              "    <tr>\n",
              "      <th>40</th>\n",
              "      <td>perceptron</td>\n",
              "      <td>1</td>\n",
              "      <td>l1</td>\n",
              "      <td>0.698089</td>\n",
              "      <td>0.264872</td>\n",
              "      <td>39</td>\n",
              "    </tr>\n",
              "    <tr>\n",
              "      <th>41</th>\n",
              "      <td>perceptron</td>\n",
              "      <td>1</td>\n",
              "      <td>elasticnet</td>\n",
              "      <td>0.698089</td>\n",
              "      <td>0.264872</td>\n",
              "      <td>39</td>\n",
              "    </tr>\n",
              "    <tr>\n",
              "      <th>42</th>\n",
              "      <td>log</td>\n",
              "      <td>1</td>\n",
              "      <td>l2</td>\n",
              "      <td>0.830749</td>\n",
              "      <td>0.001259</td>\n",
              "      <td>17</td>\n",
              "    </tr>\n",
              "    <tr>\n",
              "      <th>43</th>\n",
              "      <td>log</td>\n",
              "      <td>1</td>\n",
              "      <td>l1</td>\n",
              "      <td>0.830749</td>\n",
              "      <td>0.001259</td>\n",
              "      <td>17</td>\n",
              "    </tr>\n",
              "    <tr>\n",
              "      <th>44</th>\n",
              "      <td>log</td>\n",
              "      <td>1</td>\n",
              "      <td>elasticnet</td>\n",
              "      <td>0.830749</td>\n",
              "      <td>0.001259</td>\n",
              "      <td>17</td>\n",
              "    </tr>\n",
              "  </tbody>\n",
              "</table>\n",
              "</div>\n",
              "      <button class=\"colab-df-convert\" onclick=\"convertToInteractive('df-3ca0d8e7-6b68-4464-8d38-7e741d09665c')\"\n",
              "              title=\"Convert this dataframe to an interactive table.\"\n",
              "              style=\"display:none;\">\n",
              "        \n",
              "  <svg xmlns=\"http://www.w3.org/2000/svg\" height=\"24px\"viewBox=\"0 0 24 24\"\n",
              "       width=\"24px\">\n",
              "    <path d=\"M0 0h24v24H0V0z\" fill=\"none\"/>\n",
              "    <path d=\"M18.56 5.44l.94 2.06.94-2.06 2.06-.94-2.06-.94-.94-2.06-.94 2.06-2.06.94zm-11 1L8.5 8.5l.94-2.06 2.06-.94-2.06-.94L8.5 2.5l-.94 2.06-2.06.94zm10 10l.94 2.06.94-2.06 2.06-.94-2.06-.94-.94-2.06-.94 2.06-2.06.94z\"/><path d=\"M17.41 7.96l-1.37-1.37c-.4-.4-.92-.59-1.43-.59-.52 0-1.04.2-1.43.59L10.3 9.45l-7.72 7.72c-.78.78-.78 2.05 0 2.83L4 21.41c.39.39.9.59 1.41.59.51 0 1.02-.2 1.41-.59l7.78-7.78 2.81-2.81c.8-.78.8-2.07 0-2.86zM5.41 20L4 18.59l7.72-7.72 1.47 1.35L5.41 20z\"/>\n",
              "  </svg>\n",
              "      </button>\n",
              "      \n",
              "  <style>\n",
              "    .colab-df-container {\n",
              "      display:flex;\n",
              "      flex-wrap:wrap;\n",
              "      gap: 12px;\n",
              "    }\n",
              "\n",
              "    .colab-df-convert {\n",
              "      background-color: #E8F0FE;\n",
              "      border: none;\n",
              "      border-radius: 50%;\n",
              "      cursor: pointer;\n",
              "      display: none;\n",
              "      fill: #1967D2;\n",
              "      height: 32px;\n",
              "      padding: 0 0 0 0;\n",
              "      width: 32px;\n",
              "    }\n",
              "\n",
              "    .colab-df-convert:hover {\n",
              "      background-color: #E2EBFA;\n",
              "      box-shadow: 0px 1px 2px rgba(60, 64, 67, 0.3), 0px 1px 3px 1px rgba(60, 64, 67, 0.15);\n",
              "      fill: #174EA6;\n",
              "    }\n",
              "\n",
              "    [theme=dark] .colab-df-convert {\n",
              "      background-color: #3B4455;\n",
              "      fill: #D2E3FC;\n",
              "    }\n",
              "\n",
              "    [theme=dark] .colab-df-convert:hover {\n",
              "      background-color: #434B5C;\n",
              "      box-shadow: 0px 1px 3px 1px rgba(0, 0, 0, 0.15);\n",
              "      filter: drop-shadow(0px 1px 2px rgba(0, 0, 0, 0.3));\n",
              "      fill: #FFFFFF;\n",
              "    }\n",
              "  </style>\n",
              "\n",
              "      <script>\n",
              "        const buttonEl =\n",
              "          document.querySelector('#df-3ca0d8e7-6b68-4464-8d38-7e741d09665c button.colab-df-convert');\n",
              "        buttonEl.style.display =\n",
              "          google.colab.kernel.accessAllowed ? 'block' : 'none';\n",
              "\n",
              "        async function convertToInteractive(key) {\n",
              "          const element = document.querySelector('#df-3ca0d8e7-6b68-4464-8d38-7e741d09665c');\n",
              "          const dataTable =\n",
              "            await google.colab.kernel.invokeFunction('convertToInteractive',\n",
              "                                                     [key], {});\n",
              "          if (!dataTable) return;\n",
              "\n",
              "          const docLinkHtml = 'Like what you see? Visit the ' +\n",
              "            '<a target=\"_blank\" href=https://colab.research.google.com/notebooks/data_table.ipynb>data table notebook</a>'\n",
              "            + ' to learn more about interactive tables.';\n",
              "          element.innerHTML = '';\n",
              "          dataTable['output_type'] = 'display_data';\n",
              "          await google.colab.output.renderOutput(dataTable, element);\n",
              "          const docLink = document.createElement('div');\n",
              "          docLink.innerHTML = docLinkHtml;\n",
              "          element.appendChild(docLink);\n",
              "        }\n",
              "      </script>\n",
              "    </div>\n",
              "  </div>\n",
              "  "
            ],
            "text/plain": [
              "    param_loss param_alpha param_penalty  mean_test_score  std_test_score  \\\n",
              "0        hinge      0.0001            l2         0.868514        0.008732   \n",
              "1        hinge      0.0001            l1         0.869190        0.014962   \n",
              "2        hinge      0.0001    elasticnet         0.865809        0.006613   \n",
              "3   perceptron      0.0001            l2         0.717188        0.272492   \n",
              "4   perceptron      0.0001            l1         0.861778        0.012507   \n",
              "5   perceptron      0.0001    elasticnet         0.632050        0.283379   \n",
              "6          log      0.0001            l2         0.861766        0.012620   \n",
              "7          log      0.0001            l1         0.863798        0.014815   \n",
              "8          log      0.0001    elasticnet         0.861091        0.013406   \n",
              "9        hinge       0.001            l2         0.847609        0.003162   \n",
              "10       hinge       0.001            l1         0.860422        0.004933   \n",
              "11       hinge       0.001    elasticnet         0.850305        0.005427   \n",
              "12  perceptron       0.001            l2         0.801033        0.078126   \n",
              "13  perceptron       0.001            l1         0.861113        0.022297   \n",
              "14  perceptron       0.001    elasticnet         0.700296        0.260291   \n",
              "15         log       0.001            l2         0.848958        0.003795   \n",
              "16         log       0.001            l1         0.859746        0.004982   \n",
              "17         log       0.001    elasticnet         0.848960        0.004276   \n",
              "18       hinge        0.01            l2         0.830749        0.001259   \n",
              "19       hinge        0.01            l1         0.830749        0.001259   \n",
              "20       hinge        0.01    elasticnet         0.830749        0.001259   \n",
              "21  perceptron        0.01            l2         0.808561        0.096354   \n",
              "22  perceptron        0.01            l1         0.692702        0.262622   \n",
              "23  perceptron        0.01    elasticnet         0.601829        0.313192   \n",
              "24         log        0.01            l2         0.830749        0.001259   \n",
              "25         log        0.01            l1         0.830749        0.001259   \n",
              "26         log        0.01    elasticnet         0.830749        0.001259   \n",
              "27       hinge         0.1            l2         0.830749        0.001259   \n",
              "28       hinge         0.1            l1         0.830749        0.001259   \n",
              "29       hinge         0.1    elasticnet         0.830749        0.001259   \n",
              "30  perceptron         0.1            l2         0.838131        0.034789   \n",
              "31  perceptron         0.1            l1         0.698089        0.264872   \n",
              "32  perceptron         0.1    elasticnet         0.566776        0.323940   \n",
              "33         log         0.1            l2         0.830749        0.001259   \n",
              "34         log         0.1            l1         0.830749        0.001259   \n",
              "35         log         0.1    elasticnet         0.830749        0.001259   \n",
              "36       hinge           1            l2         0.830749        0.001259   \n",
              "37       hinge           1            l1         0.830749        0.001259   \n",
              "38       hinge           1    elasticnet         0.830749        0.001259   \n",
              "39  perceptron           1            l2         0.865154        0.019109   \n",
              "40  perceptron           1            l1         0.698089        0.264872   \n",
              "41  perceptron           1    elasticnet         0.698089        0.264872   \n",
              "42         log           1            l2         0.830749        0.001259   \n",
              "43         log           1            l1         0.830749        0.001259   \n",
              "44         log           1    elasticnet         0.830749        0.001259   \n",
              "\n",
              "    rank_test_score  \n",
              "0                 2  \n",
              "1                 1  \n",
              "2                 3  \n",
              "3                37  \n",
              "4                 6  \n",
              "5                43  \n",
              "6                 7  \n",
              "7                 5  \n",
              "8                 9  \n",
              "9                15  \n",
              "10               10  \n",
              "11               12  \n",
              "12               36  \n",
              "13                8  \n",
              "14               38  \n",
              "15               14  \n",
              "16               11  \n",
              "17               13  \n",
              "18               17  \n",
              "19               17  \n",
              "20               17  \n",
              "21               35  \n",
              "22               42  \n",
              "23               44  \n",
              "24               17  \n",
              "25               17  \n",
              "26               17  \n",
              "27               17  \n",
              "28               17  \n",
              "29               17  \n",
              "30               16  \n",
              "31               39  \n",
              "32               45  \n",
              "33               17  \n",
              "34               17  \n",
              "35               17  \n",
              "36               17  \n",
              "37               17  \n",
              "38               17  \n",
              "39                4  \n",
              "40               39  \n",
              "41               39  \n",
              "42               17  \n",
              "43               17  \n",
              "44               17  "
            ]
          },
          "execution_count": 118,
          "metadata": {},
          "output_type": "execute_result"
        }
      ],
      "source": [
        "#Resultados de la CV sobre los parámetros de la grilla\n",
        "\n",
        "results = cv.cv_results_\n",
        "\n",
        "cols = [\n",
        "    'param_loss',\n",
        "    'param_alpha',\n",
        "    'param_penalty',\n",
        "    'mean_test_score',\n",
        "    'std_test_score',\n",
        "    'rank_test_score'\n",
        "]\n",
        "\n",
        "df = pd.DataFrame(results, columns=cols)\n",
        "\n",
        "df"
      ]
    },
    {
      "cell_type": "code",
      "execution_count": null,
      "metadata": {
        "colab": {
          "base_uri": "https://localhost:8080/"
        },
        "id": "6sAo11x6Rx-2",
        "outputId": "40ba1486-b605-4090-eb14-72e3d9320166"
      },
      "outputs": [
        {
          "data": {
            "text/plain": [
              "{'alpha': 0.0001, 'loss': 'hinge', 'penalty': 'l1'}"
            ]
          },
          "execution_count": 119,
          "metadata": {},
          "output_type": "execute_result"
        }
      ],
      "source": [
        "#Análisis del mejor modelo\n",
        "\n",
        "cv.best_params_"
      ]
    },
    {
      "cell_type": "code",
      "execution_count": null,
      "metadata": {
        "id": "WXme3viISR9A"
      },
      "outputs": [],
      "source": [
        "best_model = cv.best_estimator_\n",
        "\n",
        "best_model.fit(X_train, y_train);"
      ]
    },
    {
      "cell_type": "markdown",
      "metadata": {
        "id": "wsQXxAIeSgE8"
      },
      "source": [
        "- **Métricas de entrenamiento (II)**"
      ]
    },
    {
      "cell_type": "code",
      "execution_count": null,
      "metadata": {
        "colab": {
          "base_uri": "https://localhost:8080/"
        },
        "id": "NiJpg-x_SfZ1",
        "outputId": "3ca61afa-46e6-4e7a-d471-de90122fdb8e"
      },
      "outputs": [
        {
          "name": "stdout",
          "output_type": "stream",
          "text": [
            "              precision    recall  f1-score   support\n",
            "\n",
            "           0       0.88      0.99      0.93      1232\n",
            "           1       0.81      0.31      0.45       251\n",
            "\n",
            "    accuracy                           0.87      1483\n",
            "   macro avg       0.85      0.65      0.69      1483\n",
            "weighted avg       0.87      0.87      0.85      1483\n",
            "\n"
          ]
        }
      ],
      "source": [
        "y_train_pred = best_model.predict(X_train)\n",
        "\n",
        "print(classification_report(y_train, y_train_pred, zero_division=0))"
      ]
    },
    {
      "cell_type": "markdown",
      "metadata": {
        "id": "Mpd8XnEtT27U"
      },
      "source": [
        "- Matriz de confusión"
      ]
    },
    {
      "cell_type": "code",
      "execution_count": null,
      "metadata": {
        "colab": {
          "base_uri": "https://localhost:8080/",
          "height": 443
        },
        "id": "IdyCYbalT5Jk",
        "outputId": "3a029627-fedf-4e62-8f58-430545732d8e"
      },
      "outputs": [
        {
          "name": "stderr",
          "output_type": "stream",
          "text": [
            "/usr/local/lib/python3.7/dist-packages/sklearn/utils/deprecation.py:87: FutureWarning: Function plot_confusion_matrix is deprecated; Function `plot_confusion_matrix` is deprecated in 1.0 and will be removed in 1.2. Use one of the class methods: ConfusionMatrixDisplay.from_predictions or ConfusionMatrixDisplay.from_estimator.\n",
            "  warnings.warn(msg, category=FutureWarning)\n"
          ]
        },
        {
          "data": {
            "image/png": "[encoded data removed]",
            "text/plain": [
              "<Figure size 720x432 with 2 Axes>"
            ]
          },
          "metadata": {
            "needs_background": "light"
          },
          "output_type": "display_data"
        }
      ],
      "source": [
        "fig, ax = plt.subplots(figsize=(10, 6))\n",
        "\n",
        "plot_confusion_matrix(best_model, X_train, y_train,\n",
        "                      ax=ax, cmap=plt.cm.Greys,\n",
        "                      labels=[1, 0],\n",
        "                      display_labels=['Default', 'Repaid']);"
      ]
    },
    {
      "cell_type": "markdown",
      "metadata": {
        "id": "KI5Gmw65VXId"
      },
      "source": [
        "- **Métricas de evaluación (II)**"
      ]
    },
    {
      "cell_type": "markdown",
      "metadata": {
        "id": "KLP3ciNMVOcV"
      },
      "source": []
    },
    {
      "cell_type": "code",
      "execution_count": null,
      "metadata": {
        "colab": {
          "base_uri": "https://localhost:8080/"
        },
        "id": "-ZL1o3oaWNeu",
        "outputId": "b7031138-dab4-449d-a305-2935fdda684b"
      },
      "outputs": [
        {
          "name": "stdout",
          "output_type": "stream",
          "text": [
            "              precision    recall  f1-score   support\n",
            "\n",
            "           0       0.88      0.99      0.93       313\n",
            "           1       0.81      0.29      0.43        58\n",
            "\n",
            "    accuracy                           0.88       371\n",
            "   macro avg       0.85      0.64      0.68       371\n",
            "weighted avg       0.87      0.88      0.85       371\n",
            "\n"
          ]
        }
      ],
      "source": [
        "y_test_pred = best_model.predict(X_test)\n",
        "\n",
        "print(classification_report(y_test, y_test_pred, zero_division=0))"
      ]
    },
    {
      "cell_type": "markdown",
      "metadata": {
        "id": "QzQS10erWk1j"
      },
      "source": [
        "- Matriz de confusión"
      ]
    },
    {
      "cell_type": "code",
      "execution_count": null,
      "metadata": {
        "colab": {
          "base_uri": "https://localhost:8080/",
          "height": 443
        },
        "id": "2Grws5B9WoKs",
        "outputId": "a8ab6459-8903-4915-f321-522883baea18"
      },
      "outputs": [
        {
          "name": "stderr",
          "output_type": "stream",
          "text": [
            "/usr/local/lib/python3.7/dist-packages/sklearn/utils/deprecation.py:87: FutureWarning: Function plot_confusion_matrix is deprecated; Function `plot_confusion_matrix` is deprecated in 1.0 and will be removed in 1.2. Use one of the class methods: ConfusionMatrixDisplay.from_predictions or ConfusionMatrixDisplay.from_estimator.\n",
            "  warnings.warn(msg, category=FutureWarning)\n"
          ]
        },
        {
          "data": {
            "image/png": "[encoded data removed]",
            "text/plain": [
              "<Figure size 720x432 with 2 Axes>"
            ]
          },
          "metadata": {
            "needs_background": "light"
          },
          "output_type": "display_data"
        }
      ],
      "source": [
        "fig, ax = plt.subplots(figsize=(10, 6))\n",
        "\n",
        "plot_confusion_matrix(best_model, X_test, y_test,\n",
        "                      ax=ax, cmap=plt.cm.Greys,\n",
        "                      labels=[1, 0],\n",
        "                      display_labels=['Default', 'Repaid']);"
      ]
    },
    {
      "cell_type": "markdown",
      "metadata": {
        "id": "DjWbWEpADEST"
      },
      "source": [
        "- **Conclusión**"
      ]
    },
    {
      "cell_type": "markdown",
      "metadata": {
        "id": "cOtz5vdvDJWg"
      },
      "source": [
        "- Podemos concluir a partir del ajuste de hiperparámetros y el cómputo de sus valores óptimos que el modelo no mejora la clasificación a pesar de las distintas combinaciones utilizadas para ello.\n",
        "Si bien en el modelo entrenado la precisión mejoró aún más para la clase 1 \n",
        "(0.81), podemos ver que la exhaustividad fue incluso peor (0.31) que antes de realizar los ajustes. Esto se ve profundizado como ocurrió previamente en las métricas de evaluación y también en el valor que debemos observar en este caso en particular que son los falsos positivos. Si bien no fue un aumento de gran magnitud, si se puede ver una predicción incorrecta mayor de la clase positiva (error tipo I). Muy probablemente se deba al cambio en la regularización de Ridge en un comienzo a Lasso para cuando se realizó el ajuste en los hiperparámetros. Ridge es más efectiva cuando creemos que existe una correlación entre los atributos de entrada. "
      ]
    },
    {
      "cell_type": "markdown",
      "metadata": {
        "id": "vhfDem-KPHCi"
      },
      "source": [
        "## Ejercicio 3: Árboles de Decisión\n",
        "\n",
        "En este ejercicio se entrenarán árboles de decisión para predecir la variable objetivo.\n",
        "\n",
        "Para ello, deberán utilizar la clase DecisionTreeClassifier de scikit-learn.\n",
        "\n",
        "Documentación:\n",
        "- https://scikit-learn.org/stable/modules/tree.html\n",
        "  - https://scikit-learn.org/stable/modules/tree.html#tips-on-practical-use\n",
        "- https://scikit-learn.org/stable/modules/generated/sklearn.tree.DecisionTreeClassifier.html\n",
        "- https://scikit-learn.org/stable/auto_examples/tree/plot_unveil_tree_structure.html"
      ]
    },
    {
      "cell_type": "markdown",
      "metadata": {
        "id": "MPdwhuLvPHCi"
      },
      "source": [
        "### Ejercicio 3.1: DecisionTreeClassifier con hiperparámetros por defecto\n",
        "\n",
        "Entrenar y evaluar el clasificador DecisionTreeClassifier usando los valores por omisión de scikit-learn para todos los parámetros. Únicamente **fijar la semilla aleatoria** para hacer repetible el experimento.\n",
        "\n",
        "Evaluar sobre el conjunto de **entrenamiento** y sobre el conjunto de **evaluación**, reportando:\n",
        "- Accuracy\n",
        "- Precision\n",
        "- Recall\n",
        "- F1\n",
        "- matriz de confusión\n"
      ]
    },
    {
      "cell_type": "code",
      "execution_count": null,
      "metadata": {
        "id": "OiB8CeusME_W"
      },
      "outputs": [],
      "source": [
        "# División entre entrenamiento y evaluación\n",
        "\n",
        "X_train, X_test, y_train, y_test = train_test_split(X, y, test_size=0.2, random_state=0)"
      ]
    },
    {
      "cell_type": "code",
      "execution_count": null,
      "metadata": {
        "id": "I64WVTiXMRyH"
      },
      "outputs": [],
      "source": [
        "model = DecisionTreeClassifier(random_state=0)\n",
        "\n",
        "model.fit(X_train, y_train);"
      ]
    },
    {
      "cell_type": "markdown",
      "metadata": {
        "id": "Lci9jP4aMW4G"
      },
      "source": [
        "- **Métricas de entrenamiento**"
      ]
    },
    {
      "cell_type": "code",
      "execution_count": null,
      "metadata": {
        "colab": {
          "base_uri": "https://localhost:8080/"
        },
        "id": "d3JPIj-AMc9C",
        "outputId": "666dcac1-7652-4609-e15d-4ef873773052"
      },
      "outputs": [
        {
          "name": "stdout",
          "output_type": "stream",
          "text": [
            "              precision    recall  f1-score   support\n",
            "\n",
            "           0       1.00      1.00      1.00      1232\n",
            "           1       1.00      1.00      1.00       251\n",
            "\n",
            "    accuracy                           1.00      1483\n",
            "   macro avg       1.00      1.00      1.00      1483\n",
            "weighted avg       1.00      1.00      1.00      1483\n",
            "\n"
          ]
        }
      ],
      "source": [
        "y_train_pred = model.predict(X_train)\n",
        "\n",
        "print(classification_report(y_train, y_train_pred, zero_division=0))"
      ]
    },
    {
      "cell_type": "markdown",
      "metadata": {
        "id": "NVKnPLeHMyXG"
      },
      "source": [
        "- Matriz de confusión"
      ]
    },
    {
      "cell_type": "code",
      "execution_count": null,
      "metadata": {
        "colab": {
          "base_uri": "https://localhost:8080/",
          "height": 443
        },
        "id": "3CtADKM2M0wP",
        "outputId": "b06b15ec-64d4-404d-9867-4466ae9a5e84"
      },
      "outputs": [
        {
          "name": "stderr",
          "output_type": "stream",
          "text": [
            "/usr/local/lib/python3.7/dist-packages/sklearn/utils/deprecation.py:87: FutureWarning: Function plot_confusion_matrix is deprecated; Function `plot_confusion_matrix` is deprecated in 1.0 and will be removed in 1.2. Use one of the class methods: ConfusionMatrixDisplay.from_predictions or ConfusionMatrixDisplay.from_estimator.\n",
            "  warnings.warn(msg, category=FutureWarning)\n"
          ]
        },
        {
          "data": {
            "image/png": "[encoded data removed]",
            "text/plain": [
              "<Figure size 720x432 with 2 Axes>"
            ]
          },
          "metadata": {
            "needs_background": "light"
          },
          "output_type": "display_data"
        }
      ],
      "source": [
        "fig, ax = plt.subplots(figsize=(10, 6))\n",
        "\n",
        "plot_confusion_matrix(model, X_train, y_train,\n",
        "                      ax=ax, cmap=plt.cm.Purples,\n",
        "                      labels=[1, 0],\n",
        "                      display_labels=['Default', 'Repaid']);"
      ]
    },
    {
      "cell_type": "markdown",
      "metadata": {
        "id": "Cyk_fHtnNSx3"
      },
      "source": [
        "- **Métricas de evaluación**"
      ]
    },
    {
      "cell_type": "code",
      "execution_count": null,
      "metadata": {
        "colab": {
          "base_uri": "https://localhost:8080/"
        },
        "id": "HLA4cZgLNW5-",
        "outputId": "f05f8381-4fb1-4d81-a5c1-b58cd5819e26"
      },
      "outputs": [
        {
          "name": "stdout",
          "output_type": "stream",
          "text": [
            "              precision    recall  f1-score   support\n",
            "\n",
            "           0       0.93      0.93      0.93       313\n",
            "           1       0.62      0.64      0.63        58\n",
            "\n",
            "    accuracy                           0.88       371\n",
            "   macro avg       0.77      0.78      0.78       371\n",
            "weighted avg       0.88      0.88      0.88       371\n",
            "\n"
          ]
        }
      ],
      "source": [
        "y_test_pred = model.predict(X_test)\n",
        "\n",
        "print(classification_report(y_test, y_test_pred, zero_division=0))"
      ]
    },
    {
      "cell_type": "markdown",
      "metadata": {
        "id": "Snz_e-NeNkjJ"
      },
      "source": [
        "- Matriz de confusión"
      ]
    },
    {
      "cell_type": "code",
      "execution_count": null,
      "metadata": {
        "colab": {
          "base_uri": "https://localhost:8080/",
          "height": 443
        },
        "id": "d1GaRickNnP-",
        "outputId": "e1ac78ed-ded3-4267-e236-329eb71900ec"
      },
      "outputs": [
        {
          "name": "stderr",
          "output_type": "stream",
          "text": [
            "/usr/local/lib/python3.7/dist-packages/sklearn/utils/deprecation.py:87: FutureWarning: Function plot_confusion_matrix is deprecated; Function `plot_confusion_matrix` is deprecated in 1.0 and will be removed in 1.2. Use one of the class methods: ConfusionMatrixDisplay.from_predictions or ConfusionMatrixDisplay.from_estimator.\n",
            "  warnings.warn(msg, category=FutureWarning)\n"
          ]
        },
        {
          "data": {
            "image/png": "[encoded data removed]",
            "text/plain": [
              "<Figure size 720x432 with 2 Axes>"
            ]
          },
          "metadata": {
            "needs_background": "light"
          },
          "output_type": "display_data"
        }
      ],
      "source": [
        "fig, ax = plt.subplots(figsize=(10, 6))\n",
        "\n",
        "plot_confusion_matrix(model, X_test, y_test,\n",
        "                      ax=ax, cmap=plt.cm.Purples,\n",
        "                      labels=[1, 0],\n",
        "                      display_labels=['Default', 'Repaid']);"
      ]
    },
    {
      "cell_type": "markdown",
      "metadata": {
        "id": "ussp9vyROpcl"
      },
      "source": [
        "- **Visualización del árbol**"
      ]
    },
    {
      "cell_type": "code",
      "execution_count": null,
      "metadata": {
        "colab": {
          "base_uri": "https://localhost:8080/",
          "height": 466
        },
        "id": "vI7qTJYpOxnG",
        "outputId": "3a0d2ffc-aaf7-439a-8c10-f08e8f1c90c9"
      },
      "outputs": [
        {
          "data": {
            "image/png": "[encoded data removed]",
            "text/plain": [
              "<Figure size 864x576 with 1 Axes>"
            ]
          },
          "metadata": {
            "needs_background": "light"
          },
          "output_type": "display_data"
        }
      ],
      "source": [
        "fig = plt.figure(figsize=(12, 8))\n",
        "\n",
        "plot_tree(model, filled=True);"
      ]
    },
    {
      "cell_type": "code",
      "execution_count": null,
      "metadata": {
        "colab": {
          "base_uri": "https://localhost:8080/"
        },
        "id": "sd71H-P3Qb-_",
        "outputId": "fa6f90c7-d04b-4773-b7e7-29d9d68c14f3"
      },
      "outputs": [
        {
          "data": {
            "text/plain": [
              "22"
            ]
          },
          "execution_count": 132,
          "metadata": {},
          "output_type": "execute_result"
        }
      ],
      "source": [
        "#Profundidad del árbol\n",
        "\n",
        "model.get_depth()"
      ]
    },
    {
      "cell_type": "markdown",
      "metadata": {
        "id": "Er8YWmIbQ0iS"
      },
      "source": [
        "- **Conclusión**"
      ]
    },
    {
      "cell_type": "markdown",
      "metadata": {
        "id": "fbdBCyWcAFVh"
      },
      "source": [
        "- Podemos observar que existe overfitting en el modelo de DecisionTreeClassifier ya que se desempeña a la perfección con los datos de entrenamiento como bien podemos observar tanto en las métricas como en la matriz de confusión donde ya no contamos con errores de clasificación de tipo I y II. Sin embargo, al observar las métricas de evaluación vemos que la precisión del modelo ha bajado, ya que si se aplica el procedimiento de forma reiterada, eventualmente llegamos a un árbol en el que cada hoja tenga una sola instancia de nuestra variable objetivo a clasificar, por lo que va a tener una pobre generalización y el resultado será un sobreajuste del mismo.\n",
        "\n",
        "- Dicho esto, también podemos concluir en que este modelo mejora las métricas de evaluación que obtuvimos con el modelo de SGD Classifier con ajuste de hiperparámetros con una mínima reducción en el total de errores de clasificación"
      ]
    },
    {
      "cell_type": "markdown",
      "metadata": {
        "id": "VOBfJya7PHCk"
      },
      "source": [
        "### Ejercicio 3.2: Ajuste de Hiperparámetros\n",
        "\n",
        "Seleccionar valores para los hiperparámetros principales del DecisionTreeClassifier. Como mínimo, probar diferentes criterios de partición (criterion), profundidad máxima del árbol (max_depth), y cantidad mínima de samples por hoja (min_samples_leaf).\n",
        "\n",
        "Para ello, usar grid-search y 5-fold cross-validation sobre el conjunto de entrenamiento para explorar muchas combinaciones posibles de valores.\n",
        "\n",
        "Reportar accuracy promedio y varianza para todas las configuraciones.\n",
        "\n",
        "Para la mejor configuración encontrada, evaluar sobre el conjunto de **entrenamiento** y sobre el conjunto de **evaluación**, reportando:\n",
        "- Accuracy\n",
        "- Precision\n",
        "- Recall\n",
        "- F1\n",
        "- matriz de confusión\n",
        "\n",
        "\n",
        "Documentación:\n",
        "- https://scikit-learn.org/stable/modules/grid_search.html\n",
        "- https://scikit-learn.org/stable/modules/generated/sklearn.model_selection.GridSearchCV.html"
      ]
    },
    {
      "cell_type": "code",
      "execution_count": null,
      "metadata": {
        "id": "syD5BU5LMC1y"
      },
      "outputs": [],
      "source": [
        "param_grid = {\n",
        "    'criterion': ['gini', 'entropy'],\n",
        "    'max_depth': [1, 5, 10, 20, None],\n",
        "    'min_samples_leaf': [1, 2, 3, 4, 5, 10],\n",
        "}"
      ]
    },
    {
      "cell_type": "code",
      "execution_count": null,
      "metadata": {
        "id": "iYWfMfGJGJma"
      },
      "outputs": [],
      "source": [
        "model = DecisionTreeClassifier(random_state=0)\n",
        "\n",
        "cv = GridSearchCV(model, param_grid, scoring='accuracy', cv=5)\n",
        "cv.fit(X_train, y_train);"
      ]
    },
    {
      "cell_type": "code",
      "execution_count": null,
      "metadata": {
        "colab": {
          "base_uri": "https://localhost:8080/",
          "height": 1000
        },
        "id": "0KS1Uw_sHKL2",
        "outputId": "e2a32abb-b630-4cab-9b64-5eeb0ce366dc"
      },
      "outputs": [
        {
          "data": {
            "text/html": [
              "\n",
              "  <div id=\"df-9a4faacd-3cbd-47bf-a846-5f5b8cf78ba4\">\n",
              "    <div class=\"colab-df-container\">\n",
              "      <div>\n",
              "<style scoped>\n",
              "    .dataframe tbody tr th:only-of-type {\n",
              "        vertical-align: middle;\n",
              "    }\n",
              "\n",
              "    .dataframe tbody tr th {\n",
              "        vertical-align: top;\n",
              "    }\n",
              "\n",
              "    .dataframe thead th {\n",
              "        text-align: right;\n",
              "    }\n",
              "</style>\n",
              "<table border=\"1\" class=\"dataframe\">\n",
              "  <thead>\n",
              "    <tr style=\"text-align: right;\">\n",
              "      <th></th>\n",
              "      <th>param_criterion</th>\n",
              "      <th>param_max_depth</th>\n",
              "      <th>param_min_samples_leaf</th>\n",
              "      <th>mean_test_score</th>\n",
              "      <th>std_test_score</th>\n",
              "      <th>rank_test_score</th>\n",
              "    </tr>\n",
              "  </thead>\n",
              "  <tbody>\n",
              "    <tr>\n",
              "      <th>0</th>\n",
              "      <td>gini</td>\n",
              "      <td>1</td>\n",
              "      <td>1</td>\n",
              "      <td>0.869194</td>\n",
              "      <td>0.009254</td>\n",
              "      <td>29</td>\n",
              "    </tr>\n",
              "    <tr>\n",
              "      <th>1</th>\n",
              "      <td>gini</td>\n",
              "      <td>1</td>\n",
              "      <td>2</td>\n",
              "      <td>0.869194</td>\n",
              "      <td>0.009254</td>\n",
              "      <td>29</td>\n",
              "    </tr>\n",
              "    <tr>\n",
              "      <th>2</th>\n",
              "      <td>gini</td>\n",
              "      <td>1</td>\n",
              "      <td>3</td>\n",
              "      <td>0.869194</td>\n",
              "      <td>0.009254</td>\n",
              "      <td>29</td>\n",
              "    </tr>\n",
              "    <tr>\n",
              "      <th>3</th>\n",
              "      <td>gini</td>\n",
              "      <td>1</td>\n",
              "      <td>4</td>\n",
              "      <td>0.869194</td>\n",
              "      <td>0.009254</td>\n",
              "      <td>29</td>\n",
              "    </tr>\n",
              "    <tr>\n",
              "      <th>4</th>\n",
              "      <td>gini</td>\n",
              "      <td>1</td>\n",
              "      <td>5</td>\n",
              "      <td>0.869194</td>\n",
              "      <td>0.009254</td>\n",
              "      <td>29</td>\n",
              "    </tr>\n",
              "    <tr>\n",
              "      <th>5</th>\n",
              "      <td>gini</td>\n",
              "      <td>1</td>\n",
              "      <td>10</td>\n",
              "      <td>0.869194</td>\n",
              "      <td>0.009254</td>\n",
              "      <td>29</td>\n",
              "    </tr>\n",
              "    <tr>\n",
              "      <th>6</th>\n",
              "      <td>gini</td>\n",
              "      <td>5</td>\n",
              "      <td>1</td>\n",
              "      <td>0.874584</td>\n",
              "      <td>0.014342</td>\n",
              "      <td>16</td>\n",
              "    </tr>\n",
              "    <tr>\n",
              "      <th>7</th>\n",
              "      <td>gini</td>\n",
              "      <td>5</td>\n",
              "      <td>2</td>\n",
              "      <td>0.874584</td>\n",
              "      <td>0.014342</td>\n",
              "      <td>16</td>\n",
              "    </tr>\n",
              "    <tr>\n",
              "      <th>8</th>\n",
              "      <td>gini</td>\n",
              "      <td>5</td>\n",
              "      <td>3</td>\n",
              "      <td>0.874586</td>\n",
              "      <td>0.015238</td>\n",
              "      <td>15</td>\n",
              "    </tr>\n",
              "    <tr>\n",
              "      <th>9</th>\n",
              "      <td>gini</td>\n",
              "      <td>5</td>\n",
              "      <td>4</td>\n",
              "      <td>0.873239</td>\n",
              "      <td>0.015548</td>\n",
              "      <td>19</td>\n",
              "    </tr>\n",
              "    <tr>\n",
              "      <th>10</th>\n",
              "      <td>gini</td>\n",
              "      <td>5</td>\n",
              "      <td>5</td>\n",
              "      <td>0.873910</td>\n",
              "      <td>0.013029</td>\n",
              "      <td>18</td>\n",
              "    </tr>\n",
              "    <tr>\n",
              "      <th>11</th>\n",
              "      <td>gini</td>\n",
              "      <td>5</td>\n",
              "      <td>10</td>\n",
              "      <td>0.877951</td>\n",
              "      <td>0.007197</td>\n",
              "      <td>7</td>\n",
              "    </tr>\n",
              "    <tr>\n",
              "      <th>12</th>\n",
              "      <td>gini</td>\n",
              "      <td>10</td>\n",
              "      <td>1</td>\n",
              "      <td>0.878647</td>\n",
              "      <td>0.024860</td>\n",
              "      <td>5</td>\n",
              "    </tr>\n",
              "    <tr>\n",
              "      <th>13</th>\n",
              "      <td>gini</td>\n",
              "      <td>10</td>\n",
              "      <td>2</td>\n",
              "      <td>0.882678</td>\n",
              "      <td>0.021342</td>\n",
              "      <td>1</td>\n",
              "    </tr>\n",
              "    <tr>\n",
              "      <th>14</th>\n",
              "      <td>gini</td>\n",
              "      <td>10</td>\n",
              "      <td>3</td>\n",
              "      <td>0.877969</td>\n",
              "      <td>0.026420</td>\n",
              "      <td>6</td>\n",
              "    </tr>\n",
              "    <tr>\n",
              "      <th>15</th>\n",
              "      <td>gini</td>\n",
              "      <td>10</td>\n",
              "      <td>4</td>\n",
              "      <td>0.881345</td>\n",
              "      <td>0.024713</td>\n",
              "      <td>2</td>\n",
              "    </tr>\n",
              "    <tr>\n",
              "      <th>16</th>\n",
              "      <td>gini</td>\n",
              "      <td>10</td>\n",
              "      <td>5</td>\n",
              "      <td>0.880669</td>\n",
              "      <td>0.020292</td>\n",
              "      <td>3</td>\n",
              "    </tr>\n",
              "    <tr>\n",
              "      <th>17</th>\n",
              "      <td>gini</td>\n",
              "      <td>10</td>\n",
              "      <td>10</td>\n",
              "      <td>0.875930</td>\n",
              "      <td>0.014161</td>\n",
              "      <td>13</td>\n",
              "    </tr>\n",
              "    <tr>\n",
              "      <th>18</th>\n",
              "      <td>gini</td>\n",
              "      <td>20</td>\n",
              "      <td>1</td>\n",
              "      <td>0.855037</td>\n",
              "      <td>0.016674</td>\n",
              "      <td>54</td>\n",
              "    </tr>\n",
              "    <tr>\n",
              "      <th>19</th>\n",
              "      <td>gini</td>\n",
              "      <td>20</td>\n",
              "      <td>2</td>\n",
              "      <td>0.865145</td>\n",
              "      <td>0.021612</td>\n",
              "      <td>48</td>\n",
              "    </tr>\n",
              "    <tr>\n",
              "      <th>20</th>\n",
              "      <td>gini</td>\n",
              "      <td>20</td>\n",
              "      <td>3</td>\n",
              "      <td>0.853014</td>\n",
              "      <td>0.027786</td>\n",
              "      <td>55</td>\n",
              "    </tr>\n",
              "    <tr>\n",
              "      <th>21</th>\n",
              "      <td>gini</td>\n",
              "      <td>20</td>\n",
              "      <td>4</td>\n",
              "      <td>0.869199</td>\n",
              "      <td>0.024568</td>\n",
              "      <td>27</td>\n",
              "    </tr>\n",
              "    <tr>\n",
              "      <th>22</th>\n",
              "      <td>gini</td>\n",
              "      <td>20</td>\n",
              "      <td>5</td>\n",
              "      <td>0.865832</td>\n",
              "      <td>0.024913</td>\n",
              "      <td>44</td>\n",
              "    </tr>\n",
              "    <tr>\n",
              "      <th>23</th>\n",
              "      <td>gini</td>\n",
              "      <td>20</td>\n",
              "      <td>10</td>\n",
              "      <td>0.876604</td>\n",
              "      <td>0.014675</td>\n",
              "      <td>10</td>\n",
              "    </tr>\n",
              "    <tr>\n",
              "      <th>24</th>\n",
              "      <td>gini</td>\n",
              "      <td>None</td>\n",
              "      <td>1</td>\n",
              "      <td>0.850314</td>\n",
              "      <td>0.019304</td>\n",
              "      <td>58</td>\n",
              "    </tr>\n",
              "    <tr>\n",
              "      <th>25</th>\n",
              "      <td>gini</td>\n",
              "      <td>None</td>\n",
              "      <td>2</td>\n",
              "      <td>0.865820</td>\n",
              "      <td>0.021003</td>\n",
              "      <td>46</td>\n",
              "    </tr>\n",
              "    <tr>\n",
              "      <th>26</th>\n",
              "      <td>gini</td>\n",
              "      <td>None</td>\n",
              "      <td>3</td>\n",
              "      <td>0.853014</td>\n",
              "      <td>0.027786</td>\n",
              "      <td>55</td>\n",
              "    </tr>\n",
              "    <tr>\n",
              "      <th>27</th>\n",
              "      <td>gini</td>\n",
              "      <td>None</td>\n",
              "      <td>4</td>\n",
              "      <td>0.869199</td>\n",
              "      <td>0.024568</td>\n",
              "      <td>27</td>\n",
              "    </tr>\n",
              "    <tr>\n",
              "      <th>28</th>\n",
              "      <td>gini</td>\n",
              "      <td>None</td>\n",
              "      <td>5</td>\n",
              "      <td>0.865832</td>\n",
              "      <td>0.024913</td>\n",
              "      <td>44</td>\n",
              "    </tr>\n",
              "    <tr>\n",
              "      <th>29</th>\n",
              "      <td>gini</td>\n",
              "      <td>None</td>\n",
              "      <td>10</td>\n",
              "      <td>0.876604</td>\n",
              "      <td>0.014675</td>\n",
              "      <td>10</td>\n",
              "    </tr>\n",
              "    <tr>\n",
              "      <th>30</th>\n",
              "      <td>entropy</td>\n",
              "      <td>1</td>\n",
              "      <td>1</td>\n",
              "      <td>0.869194</td>\n",
              "      <td>0.009254</td>\n",
              "      <td>29</td>\n",
              "    </tr>\n",
              "    <tr>\n",
              "      <th>31</th>\n",
              "      <td>entropy</td>\n",
              "      <td>1</td>\n",
              "      <td>2</td>\n",
              "      <td>0.869194</td>\n",
              "      <td>0.009254</td>\n",
              "      <td>29</td>\n",
              "    </tr>\n",
              "    <tr>\n",
              "      <th>32</th>\n",
              "      <td>entropy</td>\n",
              "      <td>1</td>\n",
              "      <td>3</td>\n",
              "      <td>0.869194</td>\n",
              "      <td>0.009254</td>\n",
              "      <td>29</td>\n",
              "    </tr>\n",
              "    <tr>\n",
              "      <th>33</th>\n",
              "      <td>entropy</td>\n",
              "      <td>1</td>\n",
              "      <td>4</td>\n",
              "      <td>0.869194</td>\n",
              "      <td>0.009254</td>\n",
              "      <td>29</td>\n",
              "    </tr>\n",
              "    <tr>\n",
              "      <th>34</th>\n",
              "      <td>entropy</td>\n",
              "      <td>1</td>\n",
              "      <td>5</td>\n",
              "      <td>0.869194</td>\n",
              "      <td>0.009254</td>\n",
              "      <td>29</td>\n",
              "    </tr>\n",
              "    <tr>\n",
              "      <th>35</th>\n",
              "      <td>entropy</td>\n",
              "      <td>1</td>\n",
              "      <td>10</td>\n",
              "      <td>0.869194</td>\n",
              "      <td>0.009254</td>\n",
              "      <td>29</td>\n",
              "    </tr>\n",
              "    <tr>\n",
              "      <th>36</th>\n",
              "      <td>entropy</td>\n",
              "      <td>5</td>\n",
              "      <td>1</td>\n",
              "      <td>0.876611</td>\n",
              "      <td>0.008553</td>\n",
              "      <td>9</td>\n",
              "    </tr>\n",
              "    <tr>\n",
              "      <th>37</th>\n",
              "      <td>entropy</td>\n",
              "      <td>5</td>\n",
              "      <td>2</td>\n",
              "      <td>0.877280</td>\n",
              "      <td>0.009388</td>\n",
              "      <td>8</td>\n",
              "    </tr>\n",
              "    <tr>\n",
              "      <th>38</th>\n",
              "      <td>entropy</td>\n",
              "      <td>5</td>\n",
              "      <td>3</td>\n",
              "      <td>0.875935</td>\n",
              "      <td>0.008521</td>\n",
              "      <td>12</td>\n",
              "    </tr>\n",
              "    <tr>\n",
              "      <th>39</th>\n",
              "      <td>entropy</td>\n",
              "      <td>5</td>\n",
              "      <td>4</td>\n",
              "      <td>0.873239</td>\n",
              "      <td>0.009065</td>\n",
              "      <td>20</td>\n",
              "    </tr>\n",
              "    <tr>\n",
              "      <th>40</th>\n",
              "      <td>entropy</td>\n",
              "      <td>5</td>\n",
              "      <td>5</td>\n",
              "      <td>0.873239</td>\n",
              "      <td>0.009065</td>\n",
              "      <td>20</td>\n",
              "    </tr>\n",
              "    <tr>\n",
              "      <th>41</th>\n",
              "      <td>entropy</td>\n",
              "      <td>5</td>\n",
              "      <td>10</td>\n",
              "      <td>0.880647</td>\n",
              "      <td>0.003456</td>\n",
              "      <td>4</td>\n",
              "    </tr>\n",
              "    <tr>\n",
              "      <th>42</th>\n",
              "      <td>entropy</td>\n",
              "      <td>10</td>\n",
              "      <td>1</td>\n",
              "      <td>0.868523</td>\n",
              "      <td>0.017337</td>\n",
              "      <td>41</td>\n",
              "    </tr>\n",
              "    <tr>\n",
              "      <th>43</th>\n",
              "      <td>entropy</td>\n",
              "      <td>10</td>\n",
              "      <td>2</td>\n",
              "      <td>0.871223</td>\n",
              "      <td>0.017109</td>\n",
              "      <td>22</td>\n",
              "    </tr>\n",
              "    <tr>\n",
              "      <th>44</th>\n",
              "      <td>entropy</td>\n",
              "      <td>10</td>\n",
              "      <td>3</td>\n",
              "      <td>0.875262</td>\n",
              "      <td>0.015291</td>\n",
              "      <td>14</td>\n",
              "    </tr>\n",
              "    <tr>\n",
              "      <th>45</th>\n",
              "      <td>entropy</td>\n",
              "      <td>10</td>\n",
              "      <td>4</td>\n",
              "      <td>0.864474</td>\n",
              "      <td>0.015333</td>\n",
              "      <td>49</td>\n",
              "    </tr>\n",
              "    <tr>\n",
              "      <th>46</th>\n",
              "      <td>entropy</td>\n",
              "      <td>10</td>\n",
              "      <td>5</td>\n",
              "      <td>0.851672</td>\n",
              "      <td>0.017792</td>\n",
              "      <td>57</td>\n",
              "    </tr>\n",
              "    <tr>\n",
              "      <th>47</th>\n",
              "      <td>entropy</td>\n",
              "      <td>10</td>\n",
              "      <td>10</td>\n",
              "      <td>0.865818</td>\n",
              "      <td>0.004797</td>\n",
              "      <td>47</td>\n",
              "    </tr>\n",
              "    <tr>\n",
              "      <th>48</th>\n",
              "      <td>entropy</td>\n",
              "      <td>20</td>\n",
              "      <td>1</td>\n",
              "      <td>0.870546</td>\n",
              "      <td>0.013456</td>\n",
              "      <td>23</td>\n",
              "    </tr>\n",
              "    <tr>\n",
              "      <th>49</th>\n",
              "      <td>entropy</td>\n",
              "      <td>20</td>\n",
              "      <td>2</td>\n",
              "      <td>0.867843</td>\n",
              "      <td>0.020972</td>\n",
              "      <td>42</td>\n",
              "    </tr>\n",
              "    <tr>\n",
              "      <th>50</th>\n",
              "      <td>entropy</td>\n",
              "      <td>20</td>\n",
              "      <td>3</td>\n",
              "      <td>0.869858</td>\n",
              "      <td>0.020052</td>\n",
              "      <td>25</td>\n",
              "    </tr>\n",
              "    <tr>\n",
              "      <th>51</th>\n",
              "      <td>entropy</td>\n",
              "      <td>20</td>\n",
              "      <td>4</td>\n",
              "      <td>0.857724</td>\n",
              "      <td>0.007746</td>\n",
              "      <td>52</td>\n",
              "    </tr>\n",
              "    <tr>\n",
              "      <th>52</th>\n",
              "      <td>entropy</td>\n",
              "      <td>20</td>\n",
              "      <td>5</td>\n",
              "      <td>0.847611</td>\n",
              "      <td>0.014919</td>\n",
              "      <td>59</td>\n",
              "    </tr>\n",
              "    <tr>\n",
              "      <th>53</th>\n",
              "      <td>entropy</td>\n",
              "      <td>20</td>\n",
              "      <td>10</td>\n",
              "      <td>0.863122</td>\n",
              "      <td>0.004854</td>\n",
              "      <td>50</td>\n",
              "    </tr>\n",
              "    <tr>\n",
              "      <th>54</th>\n",
              "      <td>entropy</td>\n",
              "      <td>None</td>\n",
              "      <td>1</td>\n",
              "      <td>0.870546</td>\n",
              "      <td>0.013456</td>\n",
              "      <td>23</td>\n",
              "    </tr>\n",
              "    <tr>\n",
              "      <th>55</th>\n",
              "      <td>entropy</td>\n",
              "      <td>None</td>\n",
              "      <td>2</td>\n",
              "      <td>0.867843</td>\n",
              "      <td>0.020972</td>\n",
              "      <td>42</td>\n",
              "    </tr>\n",
              "    <tr>\n",
              "      <th>56</th>\n",
              "      <td>entropy</td>\n",
              "      <td>None</td>\n",
              "      <td>3</td>\n",
              "      <td>0.869858</td>\n",
              "      <td>0.020052</td>\n",
              "      <td>25</td>\n",
              "    </tr>\n",
              "    <tr>\n",
              "      <th>57</th>\n",
              "      <td>entropy</td>\n",
              "      <td>None</td>\n",
              "      <td>4</td>\n",
              "      <td>0.857724</td>\n",
              "      <td>0.007746</td>\n",
              "      <td>52</td>\n",
              "    </tr>\n",
              "    <tr>\n",
              "      <th>58</th>\n",
              "      <td>entropy</td>\n",
              "      <td>None</td>\n",
              "      <td>5</td>\n",
              "      <td>0.847611</td>\n",
              "      <td>0.014919</td>\n",
              "      <td>59</td>\n",
              "    </tr>\n",
              "    <tr>\n",
              "      <th>59</th>\n",
              "      <td>entropy</td>\n",
              "      <td>None</td>\n",
              "      <td>10</td>\n",
              "      <td>0.863122</td>\n",
              "      <td>0.004854</td>\n",
              "      <td>50</td>\n",
              "    </tr>\n",
              "  </tbody>\n",
              "</table>\n",
              "</div>\n",
              "      <button class=\"colab-df-convert\" onclick=\"convertToInteractive('df-9a4faacd-3cbd-47bf-a846-5f5b8cf78ba4')\"\n",
              "              title=\"Convert this dataframe to an interactive table.\"\n",
              "              style=\"display:none;\">\n",
              "        \n",
              "  <svg xmlns=\"http://www.w3.org/2000/svg\" height=\"24px\"viewBox=\"0 0 24 24\"\n",
              "       width=\"24px\">\n",
              "    <path d=\"M0 0h24v24H0V0z\" fill=\"none\"/>\n",
              "    <path d=\"M18.56 5.44l.94 2.06.94-2.06 2.06-.94-2.06-.94-.94-2.06-.94 2.06-2.06.94zm-11 1L8.5 8.5l.94-2.06 2.06-.94-2.06-.94L8.5 2.5l-.94 2.06-2.06.94zm10 10l.94 2.06.94-2.06 2.06-.94-2.06-.94-.94-2.06-.94 2.06-2.06.94z\"/><path d=\"M17.41 7.96l-1.37-1.37c-.4-.4-.92-.59-1.43-.59-.52 0-1.04.2-1.43.59L10.3 9.45l-7.72 7.72c-.78.78-.78 2.05 0 2.83L4 21.41c.39.39.9.59 1.41.59.51 0 1.02-.2 1.41-.59l7.78-7.78 2.81-2.81c.8-.78.8-2.07 0-2.86zM5.41 20L4 18.59l7.72-7.72 1.47 1.35L5.41 20z\"/>\n",
              "  </svg>\n",
              "      </button>\n",
              "      \n",
              "  <style>\n",
              "    .colab-df-container {\n",
              "      display:flex;\n",
              "      flex-wrap:wrap;\n",
              "      gap: 12px;\n",
              "    }\n",
              "\n",
              "    .colab-df-convert {\n",
              "      background-color: #E8F0FE;\n",
              "      border: none;\n",
              "      border-radius: 50%;\n",
              "      cursor: pointer;\n",
              "      display: none;\n",
              "      fill: #1967D2;\n",
              "      height: 32px;\n",
              "      padding: 0 0 0 0;\n",
              "      width: 32px;\n",
              "    }\n",
              "\n",
              "    .colab-df-convert:hover {\n",
              "      background-color: #E2EBFA;\n",
              "      box-shadow: 0px 1px 2px rgba(60, 64, 67, 0.3), 0px 1px 3px 1px rgba(60, 64, 67, 0.15);\n",
              "      fill: #174EA6;\n",
              "    }\n",
              "\n",
              "    [theme=dark] .colab-df-convert {\n",
              "      background-color: #3B4455;\n",
              "      fill: #D2E3FC;\n",
              "    }\n",
              "\n",
              "    [theme=dark] .colab-df-convert:hover {\n",
              "      background-color: #434B5C;\n",
              "      box-shadow: 0px 1px 3px 1px rgba(0, 0, 0, 0.15);\n",
              "      filter: drop-shadow(0px 1px 2px rgba(0, 0, 0, 0.3));\n",
              "      fill: #FFFFFF;\n",
              "    }\n",
              "  </style>\n",
              "\n",
              "      <script>\n",
              "        const buttonEl =\n",
              "          document.querySelector('#df-9a4faacd-3cbd-47bf-a846-5f5b8cf78ba4 button.colab-df-convert');\n",
              "        buttonEl.style.display =\n",
              "          google.colab.kernel.accessAllowed ? 'block' : 'none';\n",
              "\n",
              "        async function convertToInteractive(key) {\n",
              "          const element = document.querySelector('#df-9a4faacd-3cbd-47bf-a846-5f5b8cf78ba4');\n",
              "          const dataTable =\n",
              "            await google.colab.kernel.invokeFunction('convertToInteractive',\n",
              "                                                     [key], {});\n",
              "          if (!dataTable) return;\n",
              "\n",
              "          const docLinkHtml = 'Like what you see? Visit the ' +\n",
              "            '<a target=\"_blank\" href=https://colab.research.google.com/notebooks/data_table.ipynb>data table notebook</a>'\n",
              "            + ' to learn more about interactive tables.';\n",
              "          element.innerHTML = '';\n",
              "          dataTable['output_type'] = 'display_data';\n",
              "          await google.colab.output.renderOutput(dataTable, element);\n",
              "          const docLink = document.createElement('div');\n",
              "          docLink.innerHTML = docLinkHtml;\n",
              "          element.appendChild(docLink);\n",
              "        }\n",
              "      </script>\n",
              "    </div>\n",
              "  </div>\n",
              "  "
            ],
            "text/plain": [
              "   param_criterion param_max_depth param_min_samples_leaf  mean_test_score  \\\n",
              "0             gini               1                      1         0.869194   \n",
              "1             gini               1                      2         0.869194   \n",
              "2             gini               1                      3         0.869194   \n",
              "3             gini               1                      4         0.869194   \n",
              "4             gini               1                      5         0.869194   \n",
              "5             gini               1                     10         0.869194   \n",
              "6             gini               5                      1         0.874584   \n",
              "7             gini               5                      2         0.874584   \n",
              "8             gini               5                      3         0.874586   \n",
              "9             gini               5                      4         0.873239   \n",
              "10            gini               5                      5         0.873910   \n",
              "11            gini               5                     10         0.877951   \n",
              "12            gini              10                      1         0.878647   \n",
              "13            gini              10                      2         0.882678   \n",
              "14            gini              10                      3         0.877969   \n",
              "15            gini              10                      4         0.881345   \n",
              "16            gini              10                      5         0.880669   \n",
              "17            gini              10                     10         0.875930   \n",
              "18            gini              20                      1         0.855037   \n",
              "19            gini              20                      2         0.865145   \n",
              "20            gini              20                      3         0.853014   \n",
              "21            gini              20                      4         0.869199   \n",
              "22            gini              20                      5         0.865832   \n",
              "23            gini              20                     10         0.876604   \n",
              "24            gini            None                      1         0.850314   \n",
              "25            gini            None                      2         0.865820   \n",
              "26            gini            None                      3         0.853014   \n",
              "27            gini            None                      4         0.869199   \n",
              "28            gini            None                      5         0.865832   \n",
              "29            gini            None                     10         0.876604   \n",
              "30         entropy               1                      1         0.869194   \n",
              "31         entropy               1                      2         0.869194   \n",
              "32         entropy               1                      3         0.869194   \n",
              "33         entropy               1                      4         0.869194   \n",
              "34         entropy               1                      5         0.869194   \n",
              "35         entropy               1                     10         0.869194   \n",
              "36         entropy               5                      1         0.876611   \n",
              "37         entropy               5                      2         0.877280   \n",
              "38         entropy               5                      3         0.875935   \n",
              "39         entropy               5                      4         0.873239   \n",
              "40         entropy               5                      5         0.873239   \n",
              "41         entropy               5                     10         0.880647   \n",
              "42         entropy              10                      1         0.868523   \n",
              "43         entropy              10                      2         0.871223   \n",
              "44         entropy              10                      3         0.875262   \n",
              "45         entropy              10                      4         0.864474   \n",
              "46         entropy              10                      5         0.851672   \n",
              "47         entropy              10                     10         0.865818   \n",
              "48         entropy              20                      1         0.870546   \n",
              "49         entropy              20                      2         0.867843   \n",
              "50         entropy              20                      3         0.869858   \n",
              "51         entropy              20                      4         0.857724   \n",
              "52         entropy              20                      5         0.847611   \n",
              "53         entropy              20                     10         0.863122   \n",
              "54         entropy            None                      1         0.870546   \n",
              "55         entropy            None                      2         0.867843   \n",
              "56         entropy            None                      3         0.869858   \n",
              "57         entropy            None                      4         0.857724   \n",
              "58         entropy            None                      5         0.847611   \n",
              "59         entropy            None                     10         0.863122   \n",
              "\n",
              "    std_test_score  rank_test_score  \n",
              "0         0.009254               29  \n",
              "1         0.009254               29  \n",
              "2         0.009254               29  \n",
              "3         0.009254               29  \n",
              "4         0.009254               29  \n",
              "5         0.009254               29  \n",
              "6         0.014342               16  \n",
              "7         0.014342               16  \n",
              "8         0.015238               15  \n",
              "9         0.015548               19  \n",
              "10        0.013029               18  \n",
              "11        0.007197                7  \n",
              "12        0.024860                5  \n",
              "13        0.021342                1  \n",
              "14        0.026420                6  \n",
              "15        0.024713                2  \n",
              "16        0.020292                3  \n",
              "17        0.014161               13  \n",
              "18        0.016674               54  \n",
              "19        0.021612               48  \n",
              "20        0.027786               55  \n",
              "21        0.024568               27  \n",
              "22        0.024913               44  \n",
              "23        0.014675               10  \n",
              "24        0.019304               58  \n",
              "25        0.021003               46  \n",
              "26        0.027786               55  \n",
              "27        0.024568               27  \n",
              "28        0.024913               44  \n",
              "29        0.014675               10  \n",
              "30        0.009254               29  \n",
              "31        0.009254               29  \n",
              "32        0.009254               29  \n",
              "33        0.009254               29  \n",
              "34        0.009254               29  \n",
              "35        0.009254               29  \n",
              "36        0.008553                9  \n",
              "37        0.009388                8  \n",
              "38        0.008521               12  \n",
              "39        0.009065               20  \n",
              "40        0.009065               20  \n",
              "41        0.003456                4  \n",
              "42        0.017337               41  \n",
              "43        0.017109               22  \n",
              "44        0.015291               14  \n",
              "45        0.015333               49  \n",
              "46        0.017792               57  \n",
              "47        0.004797               47  \n",
              "48        0.013456               23  \n",
              "49        0.020972               42  \n",
              "50        0.020052               25  \n",
              "51        0.007746               52  \n",
              "52        0.014919               59  \n",
              "53        0.004854               50  \n",
              "54        0.013456               23  \n",
              "55        0.020972               42  \n",
              "56        0.020052               25  \n",
              "57        0.007746               52  \n",
              "58        0.014919               59  \n",
              "59        0.004854               50  "
            ]
          },
          "execution_count": 135,
          "metadata": {},
          "output_type": "execute_result"
        }
      ],
      "source": [
        "#Resultados de la CV sobre los parámetros de la grilla\n",
        "\n",
        "results = cv.cv_results_\n",
        "\n",
        "cols = [\n",
        "    'param_criterion',\n",
        "    'param_max_depth',\n",
        "    'param_min_samples_leaf',\n",
        "    'mean_test_score',\n",
        "    'std_test_score',\n",
        "    'rank_test_score'\n",
        "]\n",
        "\n",
        "df = pd.DataFrame(results, columns=cols)\n",
        "\n",
        "df"
      ]
    },
    {
      "cell_type": "code",
      "execution_count": null,
      "metadata": {
        "colab": {
          "base_uri": "https://localhost:8080/"
        },
        "id": "p7dJTCR2H4WJ",
        "outputId": "10eda43d-9d85-4a91-a507-f36aa150a239"
      },
      "outputs": [
        {
          "data": {
            "text/plain": [
              "{'criterion': 'gini', 'max_depth': 10, 'min_samples_leaf': 2}"
            ]
          },
          "execution_count": 136,
          "metadata": {},
          "output_type": "execute_result"
        }
      ],
      "source": [
        "#Análisis del mejor modelo\n",
        "\n",
        "cv.best_params_"
      ]
    },
    {
      "cell_type": "code",
      "execution_count": null,
      "metadata": {
        "id": "gWTT-nbTH7jD"
      },
      "outputs": [],
      "source": [
        "best_model = cv.best_estimator_\n",
        "\n",
        "best_model.fit(X_train, y_train);"
      ]
    },
    {
      "cell_type": "markdown",
      "metadata": {
        "id": "w-BR7yweILEl"
      },
      "source": [
        "- **Métricas de entrenamiento**"
      ]
    },
    {
      "cell_type": "code",
      "execution_count": null,
      "metadata": {
        "colab": {
          "base_uri": "https://localhost:8080/"
        },
        "id": "CgTHfD68IJxM",
        "outputId": "3a0266ba-e396-471c-aa67-77fc33e487d6"
      },
      "outputs": [
        {
          "name": "stdout",
          "output_type": "stream",
          "text": [
            "              precision    recall  f1-score   support\n",
            "\n",
            "           0       0.94      1.00      0.97      1232\n",
            "           1       0.99      0.71      0.83       251\n",
            "\n",
            "    accuracy                           0.95      1483\n",
            "   macro avg       0.97      0.86      0.90      1483\n",
            "weighted avg       0.95      0.95      0.95      1483\n",
            "\n"
          ]
        }
      ],
      "source": [
        "y_train_pred = best_model.predict(X_train)\n",
        "\n",
        "print(classification_report(y_train, y_train_pred, zero_division=0))"
      ]
    },
    {
      "cell_type": "markdown",
      "metadata": {
        "id": "kWD_oiB9Imox"
      },
      "source": [
        "- Matriz de confusión"
      ]
    },
    {
      "cell_type": "code",
      "execution_count": null,
      "metadata": {
        "colab": {
          "base_uri": "https://localhost:8080/",
          "height": 443
        },
        "id": "kKKtNwneIrNS",
        "outputId": "b3826242-fb58-4165-c82a-033ec95df167"
      },
      "outputs": [
        {
          "name": "stderr",
          "output_type": "stream",
          "text": [
            "/usr/local/lib/python3.7/dist-packages/sklearn/utils/deprecation.py:87: FutureWarning: Function plot_confusion_matrix is deprecated; Function `plot_confusion_matrix` is deprecated in 1.0 and will be removed in 1.2. Use one of the class methods: ConfusionMatrixDisplay.from_predictions or ConfusionMatrixDisplay.from_estimator.\n",
            "  warnings.warn(msg, category=FutureWarning)\n"
          ]
        },
        {
          "data": {
            "image/png": "[encoded data removed]",
            "text/plain": [
              "<Figure size 720x432 with 2 Axes>"
            ]
          },
          "metadata": {
            "needs_background": "light"
          },
          "output_type": "display_data"
        }
      ],
      "source": [
        "fig, ax = plt.subplots(figsize=(10, 6))\n",
        "\n",
        "plot_confusion_matrix(best_model, X_train, y_train,\n",
        "                      ax=ax, cmap=plt.cm.Greens,\n",
        "                      labels=[1, 0],\n",
        "                      display_labels=['Default', 'Repaid']);"
      ]
    },
    {
      "cell_type": "markdown",
      "metadata": {
        "id": "FBqlnHziJXTx"
      },
      "source": [
        "- **Métricas de evaluación**"
      ]
    },
    {
      "cell_type": "code",
      "execution_count": null,
      "metadata": {
        "colab": {
          "base_uri": "https://localhost:8080/"
        },
        "id": "HjcDBXHdJfGm",
        "outputId": "1c4d81e1-ade4-443a-915f-4ab6eba5c827"
      },
      "outputs": [
        {
          "name": "stdout",
          "output_type": "stream",
          "text": [
            "              precision    recall  f1-score   support\n",
            "\n",
            "           0       0.92      0.97      0.94       313\n",
            "           1       0.75      0.52      0.61        58\n",
            "\n",
            "    accuracy                           0.90       371\n",
            "   macro avg       0.83      0.74      0.78       371\n",
            "weighted avg       0.89      0.90      0.89       371\n",
            "\n"
          ]
        }
      ],
      "source": [
        "y_test_pred = best_model.predict(X_test)\n",
        "\n",
        "print(classification_report(y_test, y_test_pred, zero_division=0))"
      ]
    },
    {
      "cell_type": "markdown",
      "metadata": {
        "id": "qosgeWE9JoWb"
      },
      "source": [
        "- Matriz de confusión"
      ]
    },
    {
      "cell_type": "code",
      "execution_count": null,
      "metadata": {
        "colab": {
          "base_uri": "https://localhost:8080/",
          "height": 444
        },
        "id": "z2QdMAC6Jn02",
        "outputId": "c29e61d8-a46f-4255-fc28-0a7ddbc95d30"
      },
      "outputs": [
        {
          "name": "stderr",
          "output_type": "stream",
          "text": [
            "/usr/local/lib/python3.7/dist-packages/sklearn/utils/deprecation.py:87: FutureWarning: Function plot_confusion_matrix is deprecated; Function `plot_confusion_matrix` is deprecated in 1.0 and will be removed in 1.2. Use one of the class methods: ConfusionMatrixDisplay.from_predictions or ConfusionMatrixDisplay.from_estimator.\n",
            "  warnings.warn(msg, category=FutureWarning)\n"
          ]
        },
        {
          "data": {
            "image/png": "[encoded data removed]",
            "text/plain": [
              "<Figure size 720x432 with 2 Axes>"
            ]
          },
          "metadata": {
            "needs_background": "light"
          },
          "output_type": "display_data"
        }
      ],
      "source": [
        "fig, ax = plt.subplots(figsize=(10, 6))\n",
        "\n",
        "plot_confusion_matrix(best_model, X_test, y_test,\n",
        "                      ax=ax, cmap=plt.cm.Greens,\n",
        "                      labels=[1, 0],\n",
        "                      display_labels=['Default', 'Repaid']);"
      ]
    },
    {
      "cell_type": "markdown",
      "metadata": {
        "id": "cb_03kXfJ-Mk"
      },
      "source": [
        "- **Visualización del árbol**"
      ]
    },
    {
      "cell_type": "code",
      "execution_count": null,
      "metadata": {
        "colab": {
          "base_uri": "https://localhost:8080/",
          "height": 466
        },
        "id": "aJMGu4OBKHQf",
        "outputId": "a3bc0d15-9136-4218-a15d-2a67f7c0a77a"
      },
      "outputs": [
        {
          "data": {
            "image/png": "[encoded data removed]",
            "text/plain": [
              "<Figure size 864x576 with 1 Axes>"
            ]
          },
          "metadata": {
            "needs_background": "light"
          },
          "output_type": "display_data"
        }
      ],
      "source": [
        "fig = plt.figure(figsize=(12, 8))\n",
        "\n",
        "plot_tree(best_model, filled=True);"
      ]
    },
    {
      "cell_type": "code",
      "execution_count": null,
      "metadata": {
        "colab": {
          "base_uri": "https://localhost:8080/"
        },
        "id": "29HVTNIlKMni",
        "outputId": "8cf9619c-da59-4b57-8fd3-2d146451f884"
      },
      "outputs": [
        {
          "data": {
            "text/plain": [
              "10"
            ]
          },
          "execution_count": 144,
          "metadata": {},
          "output_type": "execute_result"
        }
      ],
      "source": [
        "#Profundidad del árbol\n",
        "\n",
        "best_model.get_depth()"
      ]
    },
    {
      "cell_type": "markdown",
      "metadata": {
        "id": "DyE5Iva4KlS3"
      },
      "source": [
        "- **Conclusión**\n",
        "\n",
        "Observamos que el mejor modelo que se adapta es el que utiliza la medida de impureza de Gini con una profundidad máxima del árbol de 10 (se reduce en 12) y con 2 muestras mínimas por hoja.\n",
        "De esta manera se evita el overfitting en la etapa de entrenamiento con una precisión de 0.94 y 0.99 para las clases 0 y 1, respectivamente, así como una exactitud del 0.95; pero al estar las clases desbalanceadas nos fijamos en las métricas de exhaustividad y el score F1 y observamos que ambas han mejorado en lo que respecta a los otros modelos de clasificación. Esto es así debido a que se produjo una disminución significativa con respecto a los errores I y II de clasificación. Con respecto a los datos de evaluación obtuvimos la mejor generalización del laboratorio con un 0.90 de exactitud.\n",
        "\n",
        "A su vez, podemos tener una mejor interpretación del árbol a partir de una profundidad más ligera que en el caso previo.\n"
      ]
    }
  ],
  "metadata": {
    "colab": {
      "collapsed_sections": [],
      "name": "Copia de Lab 2.ipynb",
      "provenance": []
    },
    "kernelspec": {
      "display_name": "Python 3",
      "language": "python",
      "name": "python3"
    },
    "language_info": {
      "codemirror_mode": {
        "name": "ipython",
        "version": 3
      },
      "file_extension": ".py",
      "mimetype": "text/x-python",
      "name": "python",
      "nbconvert_exporter": "python",
      "pygments_lexer": "ipython3",
      "version": "3.8.10"
    }
  },
  "nbformat": 4,
  "nbformat_minor": 0
}
